{
 "cells": [
  {
   "cell_type": "markdown",
   "id": "86966c2c",
   "metadata": {
    "papermill": {
     "duration": 0.045068,
     "end_time": "2022-04-05T08:20:12.074774",
     "exception": false,
     "start_time": "2022-04-05T08:20:12.029706",
     "status": "completed"
    },
    "tags": []
   },
   "source": [
    "# SI 618 - Homework #7: Classifiers"
   ]
  },
  {
   "cell_type": "code",
   "execution_count": 1,
   "id": "b7940316",
   "metadata": {
    "execution": {
     "iopub.execute_input": "2022-04-05T08:20:12.166387Z",
     "iopub.status.busy": "2022-04-05T08:20:12.161938Z",
     "iopub.status.idle": "2022-04-05T08:20:12.171733Z",
     "shell.execute_reply": "2022-04-05T08:20:12.172260Z",
     "shell.execute_reply.started": "2022-04-05T07:52:38.853508Z"
    },
    "papermill": {
     "duration": 0.05765,
     "end_time": "2022-04-05T08:20:12.172546",
     "exception": false,
     "start_time": "2022-04-05T08:20:12.114896",
     "status": "completed"
    },
    "tags": []
   },
   "outputs": [
    {
     "name": "stdout",
     "output_type": "stream",
     "text": [
      "/kaggle/input/titanic/train.csv\n",
      "/kaggle/input/titanic/test.csv\n",
      "/kaggle/input/titanic/gender_submission.csv\n"
     ]
    }
   ],
   "source": [
    "import numpy as np # linear algebra\n",
    "import pandas as pd # data processing, CSV file I/O (e.g. pd.read_csv)\n",
    "\n",
    "import os\n",
    "for dirname, _, filenames in os.walk('/kaggle/input'):\n",
    "    for filename in filenames:\n",
    "        print(os.path.join(dirname, filename))"
   ]
  },
  {
   "cell_type": "code",
   "execution_count": 2,
   "id": "1a74f26f",
   "metadata": {
    "execution": {
     "iopub.execute_input": "2022-04-05T08:20:12.254999Z",
     "iopub.status.busy": "2022-04-05T08:20:12.253373Z",
     "iopub.status.idle": "2022-04-05T08:20:13.247532Z",
     "shell.execute_reply": "2022-04-05T08:20:13.248086Z",
     "shell.execute_reply.started": "2022-04-05T07:52:38.917912Z"
    },
    "papermill": {
     "duration": 1.036879,
     "end_time": "2022-04-05T08:20:13.248292",
     "exception": false,
     "start_time": "2022-04-05T08:20:12.211413",
     "status": "completed"
    },
    "tags": []
   },
   "outputs": [],
   "source": [
    "# Upload useful libraries\n",
    "import numpy as np\n",
    "import seaborn as sns\n",
    "import matplotlib.pyplot as plt\n",
    "from matplotlib.colors import ListedColormap"
   ]
  },
  {
   "cell_type": "markdown",
   "id": "e9011476",
   "metadata": {
    "papermill": {
     "duration": 0.037849,
     "end_time": "2022-04-05T08:20:13.325386",
     "exception": false,
     "start_time": "2022-04-05T08:20:13.287537",
     "status": "completed"
    },
    "tags": []
   },
   "source": [
    "## 1. EDA(Exploratory Data Analysis)"
   ]
  },
  {
   "cell_type": "code",
   "execution_count": 3,
   "id": "ff39e8b0",
   "metadata": {
    "execution": {
     "iopub.execute_input": "2022-04-05T08:20:13.407589Z",
     "iopub.status.busy": "2022-04-05T08:20:13.406891Z",
     "iopub.status.idle": "2022-04-05T08:20:13.457012Z",
     "shell.execute_reply": "2022-04-05T08:20:13.457520Z",
     "shell.execute_reply.started": "2022-04-05T07:52:40.024268Z"
    },
    "papermill": {
     "duration": 0.09386,
     "end_time": "2022-04-05T08:20:13.457689",
     "exception": false,
     "start_time": "2022-04-05T08:20:13.363829",
     "status": "completed"
    },
    "tags": []
   },
   "outputs": [
    {
     "data": {
      "text/html": [
       "<div>\n",
       "<style scoped>\n",
       "    .dataframe tbody tr th:only-of-type {\n",
       "        vertical-align: middle;\n",
       "    }\n",
       "\n",
       "    .dataframe tbody tr th {\n",
       "        vertical-align: top;\n",
       "    }\n",
       "\n",
       "    .dataframe thead th {\n",
       "        text-align: right;\n",
       "    }\n",
       "</style>\n",
       "<table border=\"1\" class=\"dataframe\">\n",
       "  <thead>\n",
       "    <tr style=\"text-align: right;\">\n",
       "      <th></th>\n",
       "      <th>PassengerId</th>\n",
       "      <th>Survived</th>\n",
       "      <th>Pclass</th>\n",
       "      <th>Name</th>\n",
       "      <th>Sex</th>\n",
       "      <th>Age</th>\n",
       "      <th>SibSp</th>\n",
       "      <th>Parch</th>\n",
       "      <th>Ticket</th>\n",
       "      <th>Fare</th>\n",
       "      <th>Cabin</th>\n",
       "      <th>Embarked</th>\n",
       "    </tr>\n",
       "  </thead>\n",
       "  <tbody>\n",
       "    <tr>\n",
       "      <th>0</th>\n",
       "      <td>1</td>\n",
       "      <td>0</td>\n",
       "      <td>3</td>\n",
       "      <td>Braund, Mr. Owen Harris</td>\n",
       "      <td>male</td>\n",
       "      <td>22.0</td>\n",
       "      <td>1</td>\n",
       "      <td>0</td>\n",
       "      <td>A/5 21171</td>\n",
       "      <td>7.2500</td>\n",
       "      <td>NaN</td>\n",
       "      <td>S</td>\n",
       "    </tr>\n",
       "    <tr>\n",
       "      <th>1</th>\n",
       "      <td>2</td>\n",
       "      <td>1</td>\n",
       "      <td>1</td>\n",
       "      <td>Cumings, Mrs. John Bradley (Florence Briggs Th...</td>\n",
       "      <td>female</td>\n",
       "      <td>38.0</td>\n",
       "      <td>1</td>\n",
       "      <td>0</td>\n",
       "      <td>PC 17599</td>\n",
       "      <td>71.2833</td>\n",
       "      <td>C85</td>\n",
       "      <td>C</td>\n",
       "    </tr>\n",
       "    <tr>\n",
       "      <th>2</th>\n",
       "      <td>3</td>\n",
       "      <td>1</td>\n",
       "      <td>3</td>\n",
       "      <td>Heikkinen, Miss. Laina</td>\n",
       "      <td>female</td>\n",
       "      <td>26.0</td>\n",
       "      <td>0</td>\n",
       "      <td>0</td>\n",
       "      <td>STON/O2. 3101282</td>\n",
       "      <td>7.9250</td>\n",
       "      <td>NaN</td>\n",
       "      <td>S</td>\n",
       "    </tr>\n",
       "    <tr>\n",
       "      <th>3</th>\n",
       "      <td>4</td>\n",
       "      <td>1</td>\n",
       "      <td>1</td>\n",
       "      <td>Futrelle, Mrs. Jacques Heath (Lily May Peel)</td>\n",
       "      <td>female</td>\n",
       "      <td>35.0</td>\n",
       "      <td>1</td>\n",
       "      <td>0</td>\n",
       "      <td>113803</td>\n",
       "      <td>53.1000</td>\n",
       "      <td>C123</td>\n",
       "      <td>S</td>\n",
       "    </tr>\n",
       "    <tr>\n",
       "      <th>4</th>\n",
       "      <td>5</td>\n",
       "      <td>0</td>\n",
       "      <td>3</td>\n",
       "      <td>Allen, Mr. William Henry</td>\n",
       "      <td>male</td>\n",
       "      <td>35.0</td>\n",
       "      <td>0</td>\n",
       "      <td>0</td>\n",
       "      <td>373450</td>\n",
       "      <td>8.0500</td>\n",
       "      <td>NaN</td>\n",
       "      <td>S</td>\n",
       "    </tr>\n",
       "  </tbody>\n",
       "</table>\n",
       "</div>"
      ],
      "text/plain": [
       "   PassengerId  Survived  Pclass  \\\n",
       "0            1         0       3   \n",
       "1            2         1       1   \n",
       "2            3         1       3   \n",
       "3            4         1       1   \n",
       "4            5         0       3   \n",
       "\n",
       "                                                Name     Sex   Age  SibSp  \\\n",
       "0                            Braund, Mr. Owen Harris    male  22.0      1   \n",
       "1  Cumings, Mrs. John Bradley (Florence Briggs Th...  female  38.0      1   \n",
       "2                             Heikkinen, Miss. Laina  female  26.0      0   \n",
       "3       Futrelle, Mrs. Jacques Heath (Lily May Peel)  female  35.0      1   \n",
       "4                           Allen, Mr. William Henry    male  35.0      0   \n",
       "\n",
       "   Parch            Ticket     Fare Cabin Embarked  \n",
       "0      0         A/5 21171   7.2500   NaN        S  \n",
       "1      0          PC 17599  71.2833   C85        C  \n",
       "2      0  STON/O2. 3101282   7.9250   NaN        S  \n",
       "3      0            113803  53.1000  C123        S  \n",
       "4      0            373450   8.0500   NaN        S  "
      ]
     },
     "metadata": {},
     "output_type": "display_data"
    },
    {
     "data": {
      "text/html": [
       "<div>\n",
       "<style scoped>\n",
       "    .dataframe tbody tr th:only-of-type {\n",
       "        vertical-align: middle;\n",
       "    }\n",
       "\n",
       "    .dataframe tbody tr th {\n",
       "        vertical-align: top;\n",
       "    }\n",
       "\n",
       "    .dataframe thead th {\n",
       "        text-align: right;\n",
       "    }\n",
       "</style>\n",
       "<table border=\"1\" class=\"dataframe\">\n",
       "  <thead>\n",
       "    <tr style=\"text-align: right;\">\n",
       "      <th></th>\n",
       "      <th>PassengerId</th>\n",
       "      <th>Pclass</th>\n",
       "      <th>Name</th>\n",
       "      <th>Sex</th>\n",
       "      <th>Age</th>\n",
       "      <th>SibSp</th>\n",
       "      <th>Parch</th>\n",
       "      <th>Ticket</th>\n",
       "      <th>Fare</th>\n",
       "      <th>Cabin</th>\n",
       "      <th>Embarked</th>\n",
       "    </tr>\n",
       "  </thead>\n",
       "  <tbody>\n",
       "    <tr>\n",
       "      <th>0</th>\n",
       "      <td>892</td>\n",
       "      <td>3</td>\n",
       "      <td>Kelly, Mr. James</td>\n",
       "      <td>male</td>\n",
       "      <td>34.5</td>\n",
       "      <td>0</td>\n",
       "      <td>0</td>\n",
       "      <td>330911</td>\n",
       "      <td>7.8292</td>\n",
       "      <td>NaN</td>\n",
       "      <td>Q</td>\n",
       "    </tr>\n",
       "    <tr>\n",
       "      <th>1</th>\n",
       "      <td>893</td>\n",
       "      <td>3</td>\n",
       "      <td>Wilkes, Mrs. James (Ellen Needs)</td>\n",
       "      <td>female</td>\n",
       "      <td>47.0</td>\n",
       "      <td>1</td>\n",
       "      <td>0</td>\n",
       "      <td>363272</td>\n",
       "      <td>7.0000</td>\n",
       "      <td>NaN</td>\n",
       "      <td>S</td>\n",
       "    </tr>\n",
       "    <tr>\n",
       "      <th>2</th>\n",
       "      <td>894</td>\n",
       "      <td>2</td>\n",
       "      <td>Myles, Mr. Thomas Francis</td>\n",
       "      <td>male</td>\n",
       "      <td>62.0</td>\n",
       "      <td>0</td>\n",
       "      <td>0</td>\n",
       "      <td>240276</td>\n",
       "      <td>9.6875</td>\n",
       "      <td>NaN</td>\n",
       "      <td>Q</td>\n",
       "    </tr>\n",
       "    <tr>\n",
       "      <th>3</th>\n",
       "      <td>895</td>\n",
       "      <td>3</td>\n",
       "      <td>Wirz, Mr. Albert</td>\n",
       "      <td>male</td>\n",
       "      <td>27.0</td>\n",
       "      <td>0</td>\n",
       "      <td>0</td>\n",
       "      <td>315154</td>\n",
       "      <td>8.6625</td>\n",
       "      <td>NaN</td>\n",
       "      <td>S</td>\n",
       "    </tr>\n",
       "    <tr>\n",
       "      <th>4</th>\n",
       "      <td>896</td>\n",
       "      <td>3</td>\n",
       "      <td>Hirvonen, Mrs. Alexander (Helga E Lindqvist)</td>\n",
       "      <td>female</td>\n",
       "      <td>22.0</td>\n",
       "      <td>1</td>\n",
       "      <td>1</td>\n",
       "      <td>3101298</td>\n",
       "      <td>12.2875</td>\n",
       "      <td>NaN</td>\n",
       "      <td>S</td>\n",
       "    </tr>\n",
       "  </tbody>\n",
       "</table>\n",
       "</div>"
      ],
      "text/plain": [
       "   PassengerId  Pclass                                          Name     Sex  \\\n",
       "0          892       3                              Kelly, Mr. James    male   \n",
       "1          893       3              Wilkes, Mrs. James (Ellen Needs)  female   \n",
       "2          894       2                     Myles, Mr. Thomas Francis    male   \n",
       "3          895       3                              Wirz, Mr. Albert    male   \n",
       "4          896       3  Hirvonen, Mrs. Alexander (Helga E Lindqvist)  female   \n",
       "\n",
       "    Age  SibSp  Parch   Ticket     Fare Cabin Embarked  \n",
       "0  34.5      0      0   330911   7.8292   NaN        Q  \n",
       "1  47.0      1      0   363272   7.0000   NaN        S  \n",
       "2  62.0      0      0   240276   9.6875   NaN        Q  \n",
       "3  27.0      0      0   315154   8.6625   NaN        S  \n",
       "4  22.0      1      1  3101298  12.2875   NaN        S  "
      ]
     },
     "metadata": {},
     "output_type": "display_data"
    }
   ],
   "source": [
    "train_data = pd.read_csv(\"/kaggle/input/titanic/train.csv\")\n",
    "test_data = pd.read_csv(\"/kaggle/input/titanic/test.csv\")\n",
    "display(train_data.head())\n",
    "display(test_data.head())"
   ]
  },
  {
   "cell_type": "markdown",
   "id": "78e87cde",
   "metadata": {
    "papermill": {
     "duration": 0.039242,
     "end_time": "2022-04-05T08:20:13.538769",
     "exception": false,
     "start_time": "2022-04-05T08:20:13.499527",
     "status": "completed"
    },
    "tags": []
   },
   "source": [
    "### 1. Dataset Overview"
   ]
  },
  {
   "cell_type": "code",
   "execution_count": 4,
   "id": "e9ad105d",
   "metadata": {
    "execution": {
     "iopub.execute_input": "2022-04-05T08:20:13.620890Z",
     "iopub.status.busy": "2022-04-05T08:20:13.620276Z",
     "iopub.status.idle": "2022-04-05T08:20:13.627710Z",
     "shell.execute_reply": "2022-04-05T08:20:13.628169Z",
     "shell.execute_reply.started": "2022-04-05T07:52:40.087679Z"
    },
    "papermill": {
     "duration": 0.050268,
     "end_time": "2022-04-05T08:20:13.628347",
     "exception": false,
     "start_time": "2022-04-05T08:20:13.578079",
     "status": "completed"
    },
    "tags": []
   },
   "outputs": [
    {
     "data": {
      "text/plain": [
       "PassengerId      0\n",
       "Survived         0\n",
       "Pclass           0\n",
       "Name             0\n",
       "Sex              0\n",
       "Age            177\n",
       "SibSp            0\n",
       "Parch            0\n",
       "Ticket           0\n",
       "Fare             0\n",
       "Cabin          687\n",
       "Embarked         2\n",
       "dtype: int64"
      ]
     },
     "execution_count": 4,
     "metadata": {},
     "output_type": "execute_result"
    }
   ],
   "source": [
    "train_data.isna().sum()"
   ]
  },
  {
   "cell_type": "code",
   "execution_count": 5,
   "id": "7e40b364",
   "metadata": {
    "execution": {
     "iopub.execute_input": "2022-04-05T08:20:13.711720Z",
     "iopub.status.busy": "2022-04-05T08:20:13.711072Z",
     "iopub.status.idle": "2022-04-05T08:20:13.718255Z",
     "shell.execute_reply": "2022-04-05T08:20:13.718937Z",
     "shell.execute_reply.started": "2022-04-05T07:52:40.102925Z"
    },
    "papermill": {
     "duration": 0.050283,
     "end_time": "2022-04-05T08:20:13.719139",
     "exception": false,
     "start_time": "2022-04-05T08:20:13.668856",
     "status": "completed"
    },
    "tags": []
   },
   "outputs": [
    {
     "data": {
      "text/plain": [
       "PassengerId      0\n",
       "Pclass           0\n",
       "Name             0\n",
       "Sex              0\n",
       "Age             86\n",
       "SibSp            0\n",
       "Parch            0\n",
       "Ticket           0\n",
       "Fare             1\n",
       "Cabin          327\n",
       "Embarked         0\n",
       "dtype: int64"
      ]
     },
     "execution_count": 5,
     "metadata": {},
     "output_type": "execute_result"
    }
   ],
   "source": [
    "test_data.isna().sum()"
   ]
  },
  {
   "cell_type": "markdown",
   "id": "820709d3",
   "metadata": {
    "papermill": {
     "duration": 0.041161,
     "end_time": "2022-04-05T08:20:13.802540",
     "exception": false,
     "start_time": "2022-04-05T08:20:13.761379",
     "status": "completed"
    },
    "tags": []
   },
   "source": [
    "1. There exists missing information in the training dataset, with 687 passengers lacking cabin information, 177 passengers lacking age information and 2 passengers lacking embarked information. \n",
    "1. For the test dataset, there exists missing information in `Age`, `Fare` and `Cabin`.\n",
    "1. With the large number of passengers lacking cabin information, cabin information may be dropped for analysis."
   ]
  },
  {
   "cell_type": "code",
   "execution_count": 6,
   "id": "829c623a",
   "metadata": {
    "execution": {
     "iopub.execute_input": "2022-04-05T08:20:13.893842Z",
     "iopub.status.busy": "2022-04-05T08:20:13.893224Z",
     "iopub.status.idle": "2022-04-05T08:20:13.926106Z",
     "shell.execute_reply": "2022-04-05T08:20:13.926650Z",
     "shell.execute_reply.started": "2022-04-05T07:52:40.113249Z"
    },
    "papermill": {
     "duration": 0.083807,
     "end_time": "2022-04-05T08:20:13.926825",
     "exception": false,
     "start_time": "2022-04-05T08:20:13.843018",
     "status": "completed"
    },
    "tags": []
   },
   "outputs": [
    {
     "data": {
      "text/html": [
       "<div>\n",
       "<style scoped>\n",
       "    .dataframe tbody tr th:only-of-type {\n",
       "        vertical-align: middle;\n",
       "    }\n",
       "\n",
       "    .dataframe tbody tr th {\n",
       "        vertical-align: top;\n",
       "    }\n",
       "\n",
       "    .dataframe thead th {\n",
       "        text-align: right;\n",
       "    }\n",
       "</style>\n",
       "<table border=\"1\" class=\"dataframe\">\n",
       "  <thead>\n",
       "    <tr style=\"text-align: right;\">\n",
       "      <th></th>\n",
       "      <th>PassengerId</th>\n",
       "      <th>Survived</th>\n",
       "      <th>Pclass</th>\n",
       "      <th>Age</th>\n",
       "      <th>SibSp</th>\n",
       "      <th>Parch</th>\n",
       "      <th>Fare</th>\n",
       "    </tr>\n",
       "  </thead>\n",
       "  <tbody>\n",
       "    <tr>\n",
       "      <th>count</th>\n",
       "      <td>891.000000</td>\n",
       "      <td>891.000000</td>\n",
       "      <td>891.000000</td>\n",
       "      <td>714.000000</td>\n",
       "      <td>891.000000</td>\n",
       "      <td>891.000000</td>\n",
       "      <td>891.000000</td>\n",
       "    </tr>\n",
       "    <tr>\n",
       "      <th>mean</th>\n",
       "      <td>446.000000</td>\n",
       "      <td>0.383838</td>\n",
       "      <td>2.308642</td>\n",
       "      <td>29.699118</td>\n",
       "      <td>0.523008</td>\n",
       "      <td>0.381594</td>\n",
       "      <td>32.204208</td>\n",
       "    </tr>\n",
       "    <tr>\n",
       "      <th>std</th>\n",
       "      <td>257.353842</td>\n",
       "      <td>0.486592</td>\n",
       "      <td>0.836071</td>\n",
       "      <td>14.526497</td>\n",
       "      <td>1.102743</td>\n",
       "      <td>0.806057</td>\n",
       "      <td>49.693429</td>\n",
       "    </tr>\n",
       "    <tr>\n",
       "      <th>min</th>\n",
       "      <td>1.000000</td>\n",
       "      <td>0.000000</td>\n",
       "      <td>1.000000</td>\n",
       "      <td>0.420000</td>\n",
       "      <td>0.000000</td>\n",
       "      <td>0.000000</td>\n",
       "      <td>0.000000</td>\n",
       "    </tr>\n",
       "    <tr>\n",
       "      <th>25%</th>\n",
       "      <td>223.500000</td>\n",
       "      <td>0.000000</td>\n",
       "      <td>2.000000</td>\n",
       "      <td>20.125000</td>\n",
       "      <td>0.000000</td>\n",
       "      <td>0.000000</td>\n",
       "      <td>7.910400</td>\n",
       "    </tr>\n",
       "    <tr>\n",
       "      <th>50%</th>\n",
       "      <td>446.000000</td>\n",
       "      <td>0.000000</td>\n",
       "      <td>3.000000</td>\n",
       "      <td>28.000000</td>\n",
       "      <td>0.000000</td>\n",
       "      <td>0.000000</td>\n",
       "      <td>14.454200</td>\n",
       "    </tr>\n",
       "    <tr>\n",
       "      <th>75%</th>\n",
       "      <td>668.500000</td>\n",
       "      <td>1.000000</td>\n",
       "      <td>3.000000</td>\n",
       "      <td>38.000000</td>\n",
       "      <td>1.000000</td>\n",
       "      <td>0.000000</td>\n",
       "      <td>31.000000</td>\n",
       "    </tr>\n",
       "    <tr>\n",
       "      <th>max</th>\n",
       "      <td>891.000000</td>\n",
       "      <td>1.000000</td>\n",
       "      <td>3.000000</td>\n",
       "      <td>80.000000</td>\n",
       "      <td>8.000000</td>\n",
       "      <td>6.000000</td>\n",
       "      <td>512.329200</td>\n",
       "    </tr>\n",
       "  </tbody>\n",
       "</table>\n",
       "</div>"
      ],
      "text/plain": [
       "       PassengerId    Survived      Pclass         Age       SibSp  \\\n",
       "count   891.000000  891.000000  891.000000  714.000000  891.000000   \n",
       "mean    446.000000    0.383838    2.308642   29.699118    0.523008   \n",
       "std     257.353842    0.486592    0.836071   14.526497    1.102743   \n",
       "min       1.000000    0.000000    1.000000    0.420000    0.000000   \n",
       "25%     223.500000    0.000000    2.000000   20.125000    0.000000   \n",
       "50%     446.000000    0.000000    3.000000   28.000000    0.000000   \n",
       "75%     668.500000    1.000000    3.000000   38.000000    1.000000   \n",
       "max     891.000000    1.000000    3.000000   80.000000    8.000000   \n",
       "\n",
       "            Parch        Fare  \n",
       "count  891.000000  891.000000  \n",
       "mean     0.381594   32.204208  \n",
       "std      0.806057   49.693429  \n",
       "min      0.000000    0.000000  \n",
       "25%      0.000000    7.910400  \n",
       "50%      0.000000   14.454200  \n",
       "75%      0.000000   31.000000  \n",
       "max      6.000000  512.329200  "
      ]
     },
     "execution_count": 6,
     "metadata": {},
     "output_type": "execute_result"
    }
   ],
   "source": [
    "train_data.describe()"
   ]
  },
  {
   "cell_type": "markdown",
   "id": "906a8d65",
   "metadata": {
    "papermill": {
     "duration": 0.041125,
     "end_time": "2022-04-05T08:20:14.009224",
     "exception": false,
     "start_time": "2022-04-05T08:20:13.968099",
     "status": "completed"
    },
    "tags": []
   },
   "source": [
    "1. There are in total 891 passengers' information in the dataset.\n",
    "1. Around 39% of passengers survived in the disaster.\n",
    "1. More people are in the second and third class than in the first class cabin.\n",
    "1. The average of passenger age is around 30 and the oldest passenger is 80 years old.\n",
    "1. The average of the fare is around 32. The passenger fare has high standard deviation, indicating that the ticket prices for different classes have large variations.\n",
    "1. Around 38% of passengers are parents/children and around 52% of passengers are siblings/spouses."
   ]
  },
  {
   "cell_type": "code",
   "execution_count": 7,
   "id": "0d3894c7",
   "metadata": {
    "execution": {
     "iopub.execute_input": "2022-04-05T08:20:14.099172Z",
     "iopub.status.busy": "2022-04-05T08:20:14.098484Z",
     "iopub.status.idle": "2022-04-05T08:20:14.116167Z",
     "shell.execute_reply": "2022-04-05T08:20:14.116711Z",
     "shell.execute_reply.started": "2022-04-05T07:52:40.157291Z"
    },
    "papermill": {
     "duration": 0.06644,
     "end_time": "2022-04-05T08:20:14.116880",
     "exception": false,
     "start_time": "2022-04-05T08:20:14.050440",
     "status": "completed"
    },
    "tags": []
   },
   "outputs": [
    {
     "data": {
      "text/html": [
       "<div>\n",
       "<style scoped>\n",
       "    .dataframe tbody tr th:only-of-type {\n",
       "        vertical-align: middle;\n",
       "    }\n",
       "\n",
       "    .dataframe tbody tr th {\n",
       "        vertical-align: top;\n",
       "    }\n",
       "\n",
       "    .dataframe thead th {\n",
       "        text-align: right;\n",
       "    }\n",
       "</style>\n",
       "<table border=\"1\" class=\"dataframe\">\n",
       "  <thead>\n",
       "    <tr style=\"text-align: right;\">\n",
       "      <th></th>\n",
       "      <th>Name</th>\n",
       "      <th>Sex</th>\n",
       "      <th>Ticket</th>\n",
       "      <th>Cabin</th>\n",
       "      <th>Embarked</th>\n",
       "    </tr>\n",
       "  </thead>\n",
       "  <tbody>\n",
       "    <tr>\n",
       "      <th>count</th>\n",
       "      <td>891</td>\n",
       "      <td>891</td>\n",
       "      <td>891</td>\n",
       "      <td>204</td>\n",
       "      <td>889</td>\n",
       "    </tr>\n",
       "    <tr>\n",
       "      <th>unique</th>\n",
       "      <td>891</td>\n",
       "      <td>2</td>\n",
       "      <td>681</td>\n",
       "      <td>147</td>\n",
       "      <td>3</td>\n",
       "    </tr>\n",
       "    <tr>\n",
       "      <th>top</th>\n",
       "      <td>Braund, Mr. Owen Harris</td>\n",
       "      <td>male</td>\n",
       "      <td>347082</td>\n",
       "      <td>B96 B98</td>\n",
       "      <td>S</td>\n",
       "    </tr>\n",
       "    <tr>\n",
       "      <th>freq</th>\n",
       "      <td>1</td>\n",
       "      <td>577</td>\n",
       "      <td>7</td>\n",
       "      <td>4</td>\n",
       "      <td>644</td>\n",
       "    </tr>\n",
       "  </tbody>\n",
       "</table>\n",
       "</div>"
      ],
      "text/plain": [
       "                           Name   Sex  Ticket    Cabin Embarked\n",
       "count                       891   891     891      204      889\n",
       "unique                      891     2     681      147        3\n",
       "top     Braund, Mr. Owen Harris  male  347082  B96 B98        S\n",
       "freq                          1   577       7        4      644"
      ]
     },
     "execution_count": 7,
     "metadata": {},
     "output_type": "execute_result"
    }
   ],
   "source": [
    "train_data.describe(include=['O'])"
   ]
  },
  {
   "cell_type": "markdown",
   "id": "8e6522fb",
   "metadata": {
    "papermill": {
     "duration": 0.051471,
     "end_time": "2022-04-05T08:20:14.217516",
     "exception": false,
     "start_time": "2022-04-05T08:20:14.166045",
     "status": "completed"
    },
    "tags": []
   },
   "source": [
    "1. No two passengers have the same name.\n",
    "1. There are more male passengers than female passengers.\n",
    "1. As there are only 147 unique cabins, maybe several passengers share one cabin.\n",
    "1. There are three ports of embarkation, and Southampton port has the most passengers for embarking."
   ]
  },
  {
   "cell_type": "markdown",
   "id": "2d71071e",
   "metadata": {
    "papermill": {
     "duration": 0.040943,
     "end_time": "2022-04-05T08:20:14.305112",
     "exception": false,
     "start_time": "2022-04-05T08:20:14.264169",
     "status": "completed"
    },
    "tags": []
   },
   "source": [
    "### 2. Numerical Value Feature Analysis"
   ]
  },
  {
   "cell_type": "code",
   "execution_count": 8,
   "id": "2b944a64",
   "metadata": {
    "execution": {
     "iopub.execute_input": "2022-04-05T08:20:14.391014Z",
     "iopub.status.busy": "2022-04-05T08:20:14.390348Z",
     "iopub.status.idle": "2022-04-05T08:20:14.965365Z",
     "shell.execute_reply": "2022-04-05T08:20:14.965879Z",
     "shell.execute_reply.started": "2022-04-05T07:52:40.179947Z"
    },
    "papermill": {
     "duration": 0.619652,
     "end_time": "2022-04-05T08:20:14.966087",
     "exception": false,
     "start_time": "2022-04-05T08:20:14.346435",
     "status": "completed"
    },
    "tags": []
   },
   "outputs": [
    {
     "data": {
      "text/plain": [
       "<AxesSubplot:>"
      ]
     },
     "execution_count": 8,
     "metadata": {},
     "output_type": "execute_result"
    },
    {
     "data": {
      "image/png": "[encoded data removed]",
      "text/plain": [
       "<Figure size 432x288 with 2 Axes>"
      ]
     },
     "metadata": {
      "needs_background": "light"
     },
     "output_type": "display_data"
    }
   ],
   "source": [
    "sns.heatmap(train_data.corr(), annot=True)"
   ]
  },
  {
   "cell_type": "markdown",
   "id": "401fbd31",
   "metadata": {
    "papermill": {
     "duration": 0.0431,
     "end_time": "2022-04-05T08:20:15.052545",
     "exception": false,
     "start_time": "2022-04-05T08:20:15.009445",
     "status": "completed"
    },
    "tags": []
   },
   "source": [
    "The above heatmap generates a confusion matrix between each variable. From the heatmap, it can be observed that the passenger class(`Pclass`) and fare(`Fare`) are more correlated with `Survived` in the training data, with values of -0.34 and 0.26."
   ]
  },
  {
   "cell_type": "markdown",
   "id": "01e49502",
   "metadata": {
    "papermill": {
     "duration": 0.044202,
     "end_time": "2022-04-05T08:20:15.141490",
     "exception": false,
     "start_time": "2022-04-05T08:20:15.097288",
     "status": "completed"
    },
    "tags": []
   },
   "source": [
    "### 3. Categorical Value Feature Analysis"
   ]
  },
  {
   "cell_type": "code",
   "execution_count": 9,
   "id": "306a5a43",
   "metadata": {
    "execution": {
     "iopub.execute_input": "2022-04-05T08:20:15.244138Z",
     "iopub.status.busy": "2022-04-05T08:20:15.243443Z",
     "iopub.status.idle": "2022-04-05T08:20:15.246157Z",
     "shell.execute_reply": "2022-04-05T08:20:15.246639Z",
     "shell.execute_reply.started": "2022-04-05T07:52:40.78547Z"
    },
    "papermill": {
     "duration": 0.061433,
     "end_time": "2022-04-05T08:20:15.246806",
     "exception": false,
     "start_time": "2022-04-05T08:20:15.185373",
     "status": "completed"
    },
    "tags": []
   },
   "outputs": [
    {
     "data": {
      "text/html": [
       "<div>\n",
       "<style scoped>\n",
       "    .dataframe tbody tr th:only-of-type {\n",
       "        vertical-align: middle;\n",
       "    }\n",
       "\n",
       "    .dataframe tbody tr th {\n",
       "        vertical-align: top;\n",
       "    }\n",
       "\n",
       "    .dataframe thead th {\n",
       "        text-align: right;\n",
       "    }\n",
       "</style>\n",
       "<table border=\"1\" class=\"dataframe\">\n",
       "  <thead>\n",
       "    <tr style=\"text-align: right;\">\n",
       "      <th></th>\n",
       "      <th>Survived</th>\n",
       "    </tr>\n",
       "    <tr>\n",
       "      <th>Sex</th>\n",
       "      <th></th>\n",
       "    </tr>\n",
       "  </thead>\n",
       "  <tbody>\n",
       "    <tr>\n",
       "      <th>female</th>\n",
       "      <td>0.742038</td>\n",
       "    </tr>\n",
       "    <tr>\n",
       "      <th>male</th>\n",
       "      <td>0.188908</td>\n",
       "    </tr>\n",
       "  </tbody>\n",
       "</table>\n",
       "</div>"
      ],
      "text/plain": [
       "        Survived\n",
       "Sex             \n",
       "female  0.742038\n",
       "male    0.188908"
      ]
     },
     "execution_count": 9,
     "metadata": {},
     "output_type": "execute_result"
    }
   ],
   "source": [
    "train_data[[\"Sex\",\"Survived\"]].groupby('Sex').mean()"
   ]
  },
  {
   "cell_type": "code",
   "execution_count": 10,
   "id": "5820abd6",
   "metadata": {
    "execution": {
     "iopub.execute_input": "2022-04-05T08:20:15.337433Z",
     "iopub.status.busy": "2022-04-05T08:20:15.336749Z",
     "iopub.status.idle": "2022-04-05T08:20:15.347387Z",
     "shell.execute_reply": "2022-04-05T08:20:15.347900Z",
     "shell.execute_reply.started": "2022-04-05T07:52:40.802543Z"
    },
    "papermill": {
     "duration": 0.057722,
     "end_time": "2022-04-05T08:20:15.348121",
     "exception": false,
     "start_time": "2022-04-05T08:20:15.290399",
     "status": "completed"
    },
    "tags": []
   },
   "outputs": [
    {
     "data": {
      "text/html": [
       "<div>\n",
       "<style scoped>\n",
       "    .dataframe tbody tr th:only-of-type {\n",
       "        vertical-align: middle;\n",
       "    }\n",
       "\n",
       "    .dataframe tbody tr th {\n",
       "        vertical-align: top;\n",
       "    }\n",
       "\n",
       "    .dataframe thead th {\n",
       "        text-align: right;\n",
       "    }\n",
       "</style>\n",
       "<table border=\"1\" class=\"dataframe\">\n",
       "  <thead>\n",
       "    <tr style=\"text-align: right;\">\n",
       "      <th></th>\n",
       "      <th>Survived</th>\n",
       "    </tr>\n",
       "    <tr>\n",
       "      <th>Pclass</th>\n",
       "      <th></th>\n",
       "    </tr>\n",
       "  </thead>\n",
       "  <tbody>\n",
       "    <tr>\n",
       "      <th>1</th>\n",
       "      <td>0.629630</td>\n",
       "    </tr>\n",
       "    <tr>\n",
       "      <th>2</th>\n",
       "      <td>0.472826</td>\n",
       "    </tr>\n",
       "    <tr>\n",
       "      <th>3</th>\n",
       "      <td>0.242363</td>\n",
       "    </tr>\n",
       "  </tbody>\n",
       "</table>\n",
       "</div>"
      ],
      "text/plain": [
       "        Survived\n",
       "Pclass          \n",
       "1       0.629630\n",
       "2       0.472826\n",
       "3       0.242363"
      ]
     },
     "execution_count": 10,
     "metadata": {},
     "output_type": "execute_result"
    }
   ],
   "source": [
    "train_data[['Pclass', 'Survived']].groupby('Pclass').mean()"
   ]
  },
  {
   "cell_type": "code",
   "execution_count": 11,
   "id": "f7cea120",
   "metadata": {
    "execution": {
     "iopub.execute_input": "2022-04-05T08:20:15.441776Z",
     "iopub.status.busy": "2022-04-05T08:20:15.441107Z",
     "iopub.status.idle": "2022-04-05T08:20:15.452230Z",
     "shell.execute_reply": "2022-04-05T08:20:15.452759Z",
     "shell.execute_reply.started": "2022-04-05T07:52:40.820759Z"
    },
    "papermill": {
     "duration": 0.059262,
     "end_time": "2022-04-05T08:20:15.452929",
     "exception": false,
     "start_time": "2022-04-05T08:20:15.393667",
     "status": "completed"
    },
    "tags": []
   },
   "outputs": [
    {
     "data": {
      "text/html": [
       "<div>\n",
       "<style scoped>\n",
       "    .dataframe tbody tr th:only-of-type {\n",
       "        vertical-align: middle;\n",
       "    }\n",
       "\n",
       "    .dataframe tbody tr th {\n",
       "        vertical-align: top;\n",
       "    }\n",
       "\n",
       "    .dataframe thead th {\n",
       "        text-align: right;\n",
       "    }\n",
       "</style>\n",
       "<table border=\"1\" class=\"dataframe\">\n",
       "  <thead>\n",
       "    <tr style=\"text-align: right;\">\n",
       "      <th></th>\n",
       "      <th>Survived</th>\n",
       "    </tr>\n",
       "    <tr>\n",
       "      <th>Embarked</th>\n",
       "      <th></th>\n",
       "    </tr>\n",
       "  </thead>\n",
       "  <tbody>\n",
       "    <tr>\n",
       "      <th>C</th>\n",
       "      <td>0.553571</td>\n",
       "    </tr>\n",
       "    <tr>\n",
       "      <th>Q</th>\n",
       "      <td>0.389610</td>\n",
       "    </tr>\n",
       "    <tr>\n",
       "      <th>S</th>\n",
       "      <td>0.336957</td>\n",
       "    </tr>\n",
       "  </tbody>\n",
       "</table>\n",
       "</div>"
      ],
      "text/plain": [
       "          Survived\n",
       "Embarked          \n",
       "C         0.553571\n",
       "Q         0.389610\n",
       "S         0.336957"
      ]
     },
     "execution_count": 11,
     "metadata": {},
     "output_type": "execute_result"
    }
   ],
   "source": [
    "train_data[['Embarked', 'Survived']].groupby('Embarked').mean()"
   ]
  },
  {
   "cell_type": "markdown",
   "id": "5e9cfb58",
   "metadata": {
    "papermill": {
     "duration": 0.045529,
     "end_time": "2022-04-05T08:20:15.543239",
     "exception": false,
     "start_time": "2022-04-05T08:20:15.497710",
     "status": "completed"
    },
    "tags": []
   },
   "source": [
    "From the analysis of categorical values, it is clear that:\n",
    "1. More than four times of women than men survived.\n",
    "1. The survived percentage increases as the passenger class is better.\n",
    "1. More than half of the passengers from S port survived, which surpasses the percentage of survived passengers from C and Q port."
   ]
  },
  {
   "cell_type": "markdown",
   "id": "7a07e0a1",
   "metadata": {
    "papermill": {
     "duration": 0.044849,
     "end_time": "2022-04-05T08:20:15.635176",
     "exception": false,
     "start_time": "2022-04-05T08:20:15.590327",
     "status": "completed"
    },
    "tags": []
   },
   "source": [
    "## 2. Train, tune, and ensemble machine learning models\n",
    "### 1. Data Preprocessing\n",
    "#### - Fill NAN values of `Embarked`, `Age` and `Fare` with mean values"
   ]
  },
  {
   "cell_type": "code",
   "execution_count": 12,
   "id": "db510051",
   "metadata": {
    "execution": {
     "iopub.execute_input": "2022-04-05T08:20:15.734924Z",
     "iopub.status.busy": "2022-04-05T08:20:15.734268Z",
     "iopub.status.idle": "2022-04-05T08:20:15.739546Z",
     "shell.execute_reply": "2022-04-05T08:20:15.740040Z",
     "shell.execute_reply.started": "2022-04-05T07:52:40.838518Z"
    },
    "papermill": {
     "duration": 0.056997,
     "end_time": "2022-04-05T08:20:15.740229",
     "exception": false,
     "start_time": "2022-04-05T08:20:15.683232",
     "status": "completed"
    },
    "tags": []
   },
   "outputs": [],
   "source": [
    "# 1. Fill NAN values of `Embarked` in the training dataset with the mode\n",
    "train_data['Embarked'].fillna(train_data['Embarked'].dropna().mode()[0], inplace=True)"
   ]
  },
  {
   "cell_type": "code",
   "execution_count": 13,
   "id": "5153a25f",
   "metadata": {
    "execution": {
     "iopub.execute_input": "2022-04-05T08:20:15.835080Z",
     "iopub.status.busy": "2022-04-05T08:20:15.834407Z",
     "iopub.status.idle": "2022-04-05T08:20:15.839207Z",
     "shell.execute_reply": "2022-04-05T08:20:15.839691Z",
     "shell.execute_reply.started": "2022-04-05T07:52:40.850988Z"
    },
    "papermill": {
     "duration": 0.053235,
     "end_time": "2022-04-05T08:20:15.839867",
     "exception": false,
     "start_time": "2022-04-05T08:20:15.786632",
     "status": "completed"
    },
    "tags": []
   },
   "outputs": [],
   "source": [
    "# 2. Fill NAN values of `Fare` in the test dataset with the mean values\n",
    "test_data['Fare'].fillna(test_data['Fare'].dropna().mean(), inplace=True)"
   ]
  },
  {
   "cell_type": "code",
   "execution_count": 14,
   "id": "ea224f67",
   "metadata": {
    "execution": {
     "iopub.execute_input": "2022-04-05T08:20:15.936904Z",
     "iopub.status.busy": "2022-04-05T08:20:15.936241Z",
     "iopub.status.idle": "2022-04-05T08:20:15.941079Z",
     "shell.execute_reply": "2022-04-05T08:20:15.941616Z",
     "shell.execute_reply.started": "2022-04-05T07:52:40.861255Z"
    },
    "papermill": {
     "duration": 0.055573,
     "end_time": "2022-04-05T08:20:15.941783",
     "exception": false,
     "start_time": "2022-04-05T08:20:15.886210",
     "status": "completed"
    },
    "tags": []
   },
   "outputs": [],
   "source": [
    "# 3. Fill NAN values of 'Age' in both training and test datasets with the mean values\n",
    "for data in [train_data, test_data]:\n",
    "    data['Age'].fillna(data['Age'].mean(), inplace = True)"
   ]
  },
  {
   "cell_type": "code",
   "execution_count": 15,
   "id": "aa2a8779",
   "metadata": {
    "execution": {
     "iopub.execute_input": "2022-04-05T08:20:16.041820Z",
     "iopub.status.busy": "2022-04-05T08:20:16.041140Z",
     "iopub.status.idle": "2022-04-05T08:20:16.049072Z",
     "shell.execute_reply": "2022-04-05T08:20:16.049611Z",
     "shell.execute_reply.started": "2022-04-05T07:52:40.873146Z"
    },
    "papermill": {
     "duration": 0.061098,
     "end_time": "2022-04-05T08:20:16.049794",
     "exception": false,
     "start_time": "2022-04-05T08:20:15.988696",
     "status": "completed"
    },
    "tags": []
   },
   "outputs": [
    {
     "data": {
      "text/plain": [
       "PassengerId      0\n",
       "Survived         0\n",
       "Pclass           0\n",
       "Name             0\n",
       "Sex              0\n",
       "Age              0\n",
       "SibSp            0\n",
       "Parch            0\n",
       "Ticket           0\n",
       "Fare             0\n",
       "Cabin          687\n",
       "Embarked         0\n",
       "dtype: int64"
      ]
     },
     "execution_count": 15,
     "metadata": {},
     "output_type": "execute_result"
    }
   ],
   "source": [
    "train_data.isna().sum()"
   ]
  },
  {
   "cell_type": "code",
   "execution_count": 16,
   "id": "e41c3605",
   "metadata": {
    "execution": {
     "iopub.execute_input": "2022-04-05T08:20:16.151284Z",
     "iopub.status.busy": "2022-04-05T08:20:16.150613Z",
     "iopub.status.idle": "2022-04-05T08:20:16.157989Z",
     "shell.execute_reply": "2022-04-05T08:20:16.158614Z",
     "shell.execute_reply.started": "2022-04-05T07:52:40.890059Z"
    },
    "papermill": {
     "duration": 0.063352,
     "end_time": "2022-04-05T08:20:16.158789",
     "exception": false,
     "start_time": "2022-04-05T08:20:16.095437",
     "status": "completed"
    },
    "tags": []
   },
   "outputs": [
    {
     "data": {
      "text/plain": [
       "PassengerId      0\n",
       "Pclass           0\n",
       "Name             0\n",
       "Sex              0\n",
       "Age              0\n",
       "SibSp            0\n",
       "Parch            0\n",
       "Ticket           0\n",
       "Fare             0\n",
       "Cabin          327\n",
       "Embarked         0\n",
       "dtype: int64"
      ]
     },
     "execution_count": 16,
     "metadata": {},
     "output_type": "execute_result"
    }
   ],
   "source": [
    "test_data.isna().sum()"
   ]
  },
  {
   "cell_type": "markdown",
   "id": "2e63f68d",
   "metadata": {
    "papermill": {
     "duration": 0.045834,
     "end_time": "2022-04-05T08:20:16.250709",
     "exception": false,
     "start_time": "2022-04-05T08:20:16.204875",
     "status": "completed"
    },
    "tags": []
   },
   "source": [
    "All the NAN values are now filled with according values except for `Cabin`. As presented in EDA, `Cabin` information will be dropped, therefore I do not process `Cabin` data."
   ]
  },
  {
   "cell_type": "markdown",
   "id": "a5b9cf5a",
   "metadata": {
    "papermill": {
     "duration": 0.04715,
     "end_time": "2022-04-05T08:20:16.343463",
     "exception": false,
     "start_time": "2022-04-05T08:20:16.296313",
     "status": "completed"
    },
    "tags": []
   },
   "source": [
    "### 2. Drop unused variables"
   ]
  },
  {
   "cell_type": "code",
   "execution_count": 17,
   "id": "43c04a7d",
   "metadata": {
    "execution": {
     "iopub.execute_input": "2022-04-05T08:20:16.454930Z",
     "iopub.status.busy": "2022-04-05T08:20:16.454288Z",
     "iopub.status.idle": "2022-04-05T08:20:16.460585Z",
     "shell.execute_reply": "2022-04-05T08:20:16.461155Z",
     "shell.execute_reply.started": "2022-04-05T07:52:40.901831Z"
    },
    "papermill": {
     "duration": 0.060365,
     "end_time": "2022-04-05T08:20:16.461326",
     "exception": false,
     "start_time": "2022-04-05T08:20:16.400961",
     "status": "completed"
    },
    "tags": []
   },
   "outputs": [],
   "source": [
    "train_prepared = train_data.drop(['PassengerId', 'Ticket', 'Cabin', 'Name', 'SibSp', 'Parch'], axis=1)\n",
    "test_prepared = test_data.drop(['PassengerId', 'Ticket', 'Cabin', 'Name', 'SibSp', 'Parch'], axis=1)"
   ]
  },
  {
   "cell_type": "code",
   "execution_count": 18,
   "id": "6d568658",
   "metadata": {
    "execution": {
     "iopub.execute_input": "2022-04-05T08:20:16.557202Z",
     "iopub.status.busy": "2022-04-05T08:20:16.556413Z",
     "iopub.status.idle": "2022-04-05T08:20:16.567801Z",
     "shell.execute_reply": "2022-04-05T08:20:16.568326Z",
     "shell.execute_reply.started": "2022-04-05T07:52:40.910242Z"
    },
    "papermill": {
     "duration": 0.060962,
     "end_time": "2022-04-05T08:20:16.568492",
     "exception": false,
     "start_time": "2022-04-05T08:20:16.507530",
     "status": "completed"
    },
    "tags": []
   },
   "outputs": [
    {
     "data": {
      "text/html": [
       "<div>\n",
       "<style scoped>\n",
       "    .dataframe tbody tr th:only-of-type {\n",
       "        vertical-align: middle;\n",
       "    }\n",
       "\n",
       "    .dataframe tbody tr th {\n",
       "        vertical-align: top;\n",
       "    }\n",
       "\n",
       "    .dataframe thead th {\n",
       "        text-align: right;\n",
       "    }\n",
       "</style>\n",
       "<table border=\"1\" class=\"dataframe\">\n",
       "  <thead>\n",
       "    <tr style=\"text-align: right;\">\n",
       "      <th></th>\n",
       "      <th>Survived</th>\n",
       "      <th>Pclass</th>\n",
       "      <th>Sex</th>\n",
       "      <th>Age</th>\n",
       "      <th>Fare</th>\n",
       "      <th>Embarked</th>\n",
       "    </tr>\n",
       "  </thead>\n",
       "  <tbody>\n",
       "    <tr>\n",
       "      <th>0</th>\n",
       "      <td>0</td>\n",
       "      <td>3</td>\n",
       "      <td>male</td>\n",
       "      <td>22.0</td>\n",
       "      <td>7.2500</td>\n",
       "      <td>S</td>\n",
       "    </tr>\n",
       "    <tr>\n",
       "      <th>1</th>\n",
       "      <td>1</td>\n",
       "      <td>1</td>\n",
       "      <td>female</td>\n",
       "      <td>38.0</td>\n",
       "      <td>71.2833</td>\n",
       "      <td>C</td>\n",
       "    </tr>\n",
       "    <tr>\n",
       "      <th>2</th>\n",
       "      <td>1</td>\n",
       "      <td>3</td>\n",
       "      <td>female</td>\n",
       "      <td>26.0</td>\n",
       "      <td>7.9250</td>\n",
       "      <td>S</td>\n",
       "    </tr>\n",
       "    <tr>\n",
       "      <th>3</th>\n",
       "      <td>1</td>\n",
       "      <td>1</td>\n",
       "      <td>female</td>\n",
       "      <td>35.0</td>\n",
       "      <td>53.1000</td>\n",
       "      <td>S</td>\n",
       "    </tr>\n",
       "    <tr>\n",
       "      <th>4</th>\n",
       "      <td>0</td>\n",
       "      <td>3</td>\n",
       "      <td>male</td>\n",
       "      <td>35.0</td>\n",
       "      <td>8.0500</td>\n",
       "      <td>S</td>\n",
       "    </tr>\n",
       "  </tbody>\n",
       "</table>\n",
       "</div>"
      ],
      "text/plain": [
       "   Survived  Pclass     Sex   Age     Fare Embarked\n",
       "0         0       3    male  22.0   7.2500        S\n",
       "1         1       1  female  38.0  71.2833        C\n",
       "2         1       3  female  26.0   7.9250        S\n",
       "3         1       1  female  35.0  53.1000        S\n",
       "4         0       3    male  35.0   8.0500        S"
      ]
     },
     "execution_count": 18,
     "metadata": {},
     "output_type": "execute_result"
    }
   ],
   "source": [
    "train_prepared.head()"
   ]
  },
  {
   "cell_type": "code",
   "execution_count": 19,
   "id": "2e2ea3e3",
   "metadata": {
    "execution": {
     "iopub.execute_input": "2022-04-05T08:20:16.669383Z",
     "iopub.status.busy": "2022-04-05T08:20:16.668725Z",
     "iopub.status.idle": "2022-04-05T08:20:16.679818Z",
     "shell.execute_reply": "2022-04-05T08:20:16.680436Z",
     "shell.execute_reply.started": "2022-04-05T07:52:40.933379Z"
    },
    "papermill": {
     "duration": 0.063909,
     "end_time": "2022-04-05T08:20:16.680605",
     "exception": false,
     "start_time": "2022-04-05T08:20:16.616696",
     "status": "completed"
    },
    "tags": []
   },
   "outputs": [
    {
     "data": {
      "text/html": [
       "<div>\n",
       "<style scoped>\n",
       "    .dataframe tbody tr th:only-of-type {\n",
       "        vertical-align: middle;\n",
       "    }\n",
       "\n",
       "    .dataframe tbody tr th {\n",
       "        vertical-align: top;\n",
       "    }\n",
       "\n",
       "    .dataframe thead th {\n",
       "        text-align: right;\n",
       "    }\n",
       "</style>\n",
       "<table border=\"1\" class=\"dataframe\">\n",
       "  <thead>\n",
       "    <tr style=\"text-align: right;\">\n",
       "      <th></th>\n",
       "      <th>Pclass</th>\n",
       "      <th>Sex</th>\n",
       "      <th>Age</th>\n",
       "      <th>Fare</th>\n",
       "      <th>Embarked</th>\n",
       "    </tr>\n",
       "  </thead>\n",
       "  <tbody>\n",
       "    <tr>\n",
       "      <th>0</th>\n",
       "      <td>3</td>\n",
       "      <td>male</td>\n",
       "      <td>34.5</td>\n",
       "      <td>7.8292</td>\n",
       "      <td>Q</td>\n",
       "    </tr>\n",
       "    <tr>\n",
       "      <th>1</th>\n",
       "      <td>3</td>\n",
       "      <td>female</td>\n",
       "      <td>47.0</td>\n",
       "      <td>7.0000</td>\n",
       "      <td>S</td>\n",
       "    </tr>\n",
       "    <tr>\n",
       "      <th>2</th>\n",
       "      <td>2</td>\n",
       "      <td>male</td>\n",
       "      <td>62.0</td>\n",
       "      <td>9.6875</td>\n",
       "      <td>Q</td>\n",
       "    </tr>\n",
       "    <tr>\n",
       "      <th>3</th>\n",
       "      <td>3</td>\n",
       "      <td>male</td>\n",
       "      <td>27.0</td>\n",
       "      <td>8.6625</td>\n",
       "      <td>S</td>\n",
       "    </tr>\n",
       "    <tr>\n",
       "      <th>4</th>\n",
       "      <td>3</td>\n",
       "      <td>female</td>\n",
       "      <td>22.0</td>\n",
       "      <td>12.2875</td>\n",
       "      <td>S</td>\n",
       "    </tr>\n",
       "  </tbody>\n",
       "</table>\n",
       "</div>"
      ],
      "text/plain": [
       "   Pclass     Sex   Age     Fare Embarked\n",
       "0       3    male  34.5   7.8292        Q\n",
       "1       3  female  47.0   7.0000        S\n",
       "2       2    male  62.0   9.6875        Q\n",
       "3       3    male  27.0   8.6625        S\n",
       "4       3  female  22.0  12.2875        S"
      ]
     },
     "execution_count": 19,
     "metadata": {},
     "output_type": "execute_result"
    }
   ],
   "source": [
    "test_prepared.head()"
   ]
  },
  {
   "cell_type": "code",
   "execution_count": 20,
   "id": "86893abf",
   "metadata": {
    "execution": {
     "iopub.execute_input": "2022-04-05T08:20:16.778158Z",
     "iopub.status.busy": "2022-04-05T08:20:16.777552Z",
     "iopub.status.idle": "2022-04-05T08:20:16.782505Z",
     "shell.execute_reply": "2022-04-05T08:20:16.783020Z",
     "shell.execute_reply.started": "2022-04-05T07:52:40.953189Z"
    },
    "papermill": {
     "duration": 0.055406,
     "end_time": "2022-04-05T08:20:16.783325",
     "exception": false,
     "start_time": "2022-04-05T08:20:16.727919",
     "status": "completed"
    },
    "tags": []
   },
   "outputs": [],
   "source": [
    "X_train = train_prepared.drop('Survived', axis=1)\n",
    "X_test = test_prepared\n",
    "y = train_data['Survived']"
   ]
  },
  {
   "cell_type": "markdown",
   "id": "6bef4d36",
   "metadata": {
    "papermill": {
     "duration": 0.046726,
     "end_time": "2022-04-05T08:20:16.877269",
     "exception": false,
     "start_time": "2022-04-05T08:20:16.830543",
     "status": "completed"
    },
    "tags": []
   },
   "source": [
    "### 3. Train, Tune and Ensemble\n",
    "#### - Data Preprocessing"
   ]
  },
  {
   "cell_type": "code",
   "execution_count": 21,
   "id": "7d373da8",
   "metadata": {
    "execution": {
     "iopub.execute_input": "2022-04-05T08:20:16.975826Z",
     "iopub.status.busy": "2022-04-05T08:20:16.975175Z",
     "iopub.status.idle": "2022-04-05T08:20:17.133885Z",
     "shell.execute_reply": "2022-04-05T08:20:17.133293Z",
     "shell.execute_reply.started": "2022-04-05T07:52:40.967131Z"
    },
    "papermill": {
     "duration": 0.209124,
     "end_time": "2022-04-05T08:20:17.134056",
     "exception": false,
     "start_time": "2022-04-05T08:20:16.924932",
     "status": "completed"
    },
    "tags": []
   },
   "outputs": [],
   "source": [
    "import numpy as np\n",
    "from sklearn.compose import ColumnTransformer\n",
    "from sklearn.preprocessing import StandardScaler\n",
    "from sklearn.preprocessing import OneHotEncoder\n",
    "\n",
    "num_attribs = list(X_train.select_dtypes(include=[np.number]))\n",
    "cat_attribs = list(X_train.select_dtypes(exclude=[np.number]))\n",
    "\n",
    "full_pipeline = ColumnTransformer([\n",
    "        (\"num\", StandardScaler(), num_attribs),  # scale variables\n",
    "        (\"cat\", OneHotEncoder(), cat_attribs),   # covert categorical labels to vector\n",
    "    ])\n",
    "\n",
    "X_train = full_pipeline.fit_transform(X_train)\n",
    "X_test = full_pipeline.transform(test_prepared)"
   ]
  },
  {
   "cell_type": "markdown",
   "id": "21965be1",
   "metadata": {
    "papermill": {
     "duration": 0.048901,
     "end_time": "2022-04-05T08:20:17.230433",
     "exception": false,
     "start_time": "2022-04-05T08:20:17.181532",
     "status": "completed"
    },
    "tags": []
   },
   "source": [
    "#### - Define models and grid of parameters"
   ]
  },
  {
   "cell_type": "code",
   "execution_count": 22,
   "id": "1ebb8082",
   "metadata": {
    "execution": {
     "iopub.execute_input": "2022-04-05T08:20:17.331235Z",
     "iopub.status.busy": "2022-04-05T08:20:17.330400Z",
     "iopub.status.idle": "2022-04-05T08:20:17.586519Z",
     "shell.execute_reply": "2022-04-05T08:20:17.585878Z",
     "shell.execute_reply.started": "2022-04-05T07:52:41.132462Z"
    },
    "papermill": {
     "duration": 0.309434,
     "end_time": "2022-04-05T08:20:17.586684",
     "exception": false,
     "start_time": "2022-04-05T08:20:17.277250",
     "status": "completed"
    },
    "tags": []
   },
   "outputs": [],
   "source": [
    "from sklearn.model_selection import train_test_split\n",
    "from sklearn.preprocessing import StandardScaler\n",
    "from sklearn.neural_network import MLPClassifier\n",
    "from sklearn.neighbors import KNeighborsClassifier\n",
    "from sklearn.svm import SVC\n",
    "from sklearn.gaussian_process import GaussianProcessClassifier\n",
    "from sklearn.gaussian_process.kernels import RBF\n",
    "from sklearn.tree import DecisionTreeClassifier\n",
    "from sklearn.ensemble import RandomForestClassifier, AdaBoostClassifier, VotingClassifier\n",
    "from sklearn.naive_bayes import GaussianNB\n",
    "from sklearn.discriminant_analysis import QuadraticDiscriminantAnalysis\n",
    "from sklearn.linear_model import LogisticRegression\n",
    "from sklearn.model_selection import GridSearchCV"
   ]
  },
  {
   "cell_type": "code",
   "execution_count": 23,
   "id": "12833b75",
   "metadata": {
    "execution": {
     "iopub.execute_input": "2022-04-05T08:20:17.689177Z",
     "iopub.status.busy": "2022-04-05T08:20:17.688513Z",
     "iopub.status.idle": "2022-04-05T08:20:17.691347Z",
     "shell.execute_reply": "2022-04-05T08:20:17.690840Z",
     "shell.execute_reply.started": "2022-04-05T08:07:34.954032Z"
    },
    "papermill": {
     "duration": 0.057425,
     "end_time": "2022-04-05T08:20:17.691489",
     "exception": false,
     "start_time": "2022-04-05T08:20:17.634064",
     "status": "completed"
    },
    "tags": []
   },
   "outputs": [],
   "source": [
    "classifiers = [\n",
    "    (\"K Nearest Neighbors\", KNeighborsClassifier()),\n",
    "    (\"SVM\", SVC(random_state=42, probability=True)),\n",
    "    (\"Gaussian Process\", GaussianProcessClassifier(random_state=42)),\n",
    "    (\"Decision Tree\", DecisionTreeClassifier(random_state=42)),\n",
    "    (\"Random Forest\", RandomForestClassifier(random_state=42)),\n",
    "    (\"Neural Net\", MLPClassifier(random_state=42)),\n",
    "    (\"AdaBoost\", AdaBoostClassifier(random_state=42)),\n",
    "    (\"Naive Bayes\", GaussianNB()),\n",
    "    (\"Logistic Regression\", LogisticRegression(random_state=42))\n",
    "    ]"
   ]
  },
  {
   "cell_type": "code",
   "execution_count": 24,
   "id": "bcb2f704",
   "metadata": {
    "execution": {
     "iopub.execute_input": "2022-04-05T08:20:17.797580Z",
     "iopub.status.busy": "2022-04-05T08:20:17.796845Z",
     "iopub.status.idle": "2022-04-05T08:20:17.798632Z",
     "shell.execute_reply": "2022-04-05T08:20:17.799187Z",
     "shell.execute_reply.started": "2022-04-05T08:07:38.731024Z"
    },
    "papermill": {
     "duration": 0.060882,
     "end_time": "2022-04-05T08:20:17.799363",
     "exception": false,
     "start_time": "2022-04-05T08:20:17.738481",
     "status": "completed"
    },
    "tags": []
   },
   "outputs": [],
   "source": [
    "grid_param = [\n",
    "    # K Nearest Neighbors\n",
    "    [{\n",
    "        \"weights\": [\"uniform\", \"distance\"],\n",
    "        \"algorithm\": ['auto', 'ball_tree', 'kd_tree', 'brute'],\n",
    "        \"n_neighbors\": [1, 3, 5, 7]\n",
    "    }],\n",
    "    \n",
    "    # SVM\n",
    "    [{\n",
    "        \"C\": [0.001, 0.01, 0.1, 1.],\n",
    "        \"kernel\": [\"linear\", \"poly\", \"rbf\", \"sigmoid\"],\n",
    "        'gamma': [ 0.001, 0.01, 0.1, 1],\n",
    "    }],\n",
    "    \n",
    "    # Gaussian Process\n",
    "    [{\n",
    "        \"max_iter_predict\": [5, 10, 15, 20, 25, 30, 35, 40, 50, 100]\n",
    "    }],\n",
    "    \n",
    "    # Decision Tree\n",
    "    [{\n",
    "        \"max_depth\": [3, 5, 7, 9, 11, 13]\n",
    "    }],\n",
    "    \n",
    "    # Random Forest\n",
    "    [{\n",
    "        \"n_estimators\": [5, 10, 15, 20, 25], \n",
    "        \"max_depth\": [3, 5, 7, 9, 11, 13],\n",
    "        \"criterion\": [\"gini\", \"entropy\"],\n",
    "    }],\n",
    "    \n",
    "    # Neural Net\n",
    "    [{\n",
    "        'activation': ['identity', 'logistic', 'tanh', 'relu'],\n",
    "        'alpha': [0.0001, 0.001, 0.01, 1, 10],\n",
    "        'max_iter': [1000]\n",
    "    }],\n",
    "    \n",
    "    # AdaBoost\n",
    "    [{\n",
    "        \"n_estimators\": [5, 10, 15, 20, 25, 50, 75, 100], \n",
    "        \"learning_rate\": [0.001, 0.01, 0.1, 1.],\n",
    "    }],\n",
    "    \n",
    "    # Naive Bayes\n",
    "    [{\n",
    "        \n",
    "    }],\n",
    "    \n",
    "    # Logistic Regression\n",
    "    [{\n",
    "        \"C\": [0.001, 0.01, 0.1, 1.],\n",
    "        'solver': ['newton-cg', 'lbfgs', 'liblinear', 'sag', 'saga'],\n",
    "    }],\n",
    "    \n",
    "]"
   ]
  },
  {
   "cell_type": "markdown",
   "id": "335c653c",
   "metadata": {
    "papermill": {
     "duration": 0.047236,
     "end_time": "2022-04-05T08:20:17.894074",
     "exception": false,
     "start_time": "2022-04-05T08:20:17.846838",
     "status": "completed"
    },
    "tags": []
   },
   "source": [
    "#### - Choose the best parameters"
   ]
  },
  {
   "cell_type": "code",
   "execution_count": 25,
   "id": "85c58aef",
   "metadata": {
    "execution": {
     "iopub.execute_input": "2022-04-05T08:20:17.993664Z",
     "iopub.status.busy": "2022-04-05T08:20:17.992923Z",
     "iopub.status.idle": "2022-04-05T08:22:14.664602Z",
     "shell.execute_reply": "2022-04-05T08:22:14.665375Z",
     "shell.execute_reply.started": "2022-04-05T08:07:40.796452Z"
    },
    "papermill": {
     "duration": 116.724284,
     "end_time": "2022-04-05T08:22:14.665592",
     "exception": false,
     "start_time": "2022-04-05T08:20:17.941308",
     "status": "completed"
    },
    "tags": []
   },
   "outputs": [
    {
     "name": "stdout",
     "output_type": "stream",
     "text": [
      "The best parameter for KNeighborsClassifier is {'algorithm': 'brute', 'n_neighbors': 5, 'weights': 'uniform'}.\n",
      "The best parameter for SVC is {'C': 0.01, 'gamma': 1, 'kernel': 'poly'}.\n",
      "The best parameter for GaussianProcessClassifier is {'max_iter_predict': 5}.\n",
      "The best parameter for DecisionTreeClassifier is {'max_depth': 7}.\n",
      "The best parameter for RandomForestClassifier is {'criterion': 'gini', 'max_depth': 9, 'n_estimators': 25}.\n",
      "The best parameter for MLPClassifier is {'activation': 'identity', 'alpha': 0.0001, 'max_iter': 1000}.\n",
      "The best parameter for AdaBoostClassifier is {'learning_rate': 1.0, 'n_estimators': 75}.\n",
      "The best parameter for GaussianNB is {}.\n",
      "The best parameter for LogisticRegression is {'C': 0.1, 'solver': 'liblinear'}.\n"
     ]
    }
   ],
   "source": [
    "for clf, param in zip (classifiers, grid_param):  \n",
    "    best_search = GridSearchCV(estimator = clf[1], param_grid=param, cv=10, n_jobs=-1)\n",
    "    best_search.fit(X_train, y)\n",
    "\n",
    "    best_param = best_search.best_params_\n",
    "    print('The best parameter for {} is {}.'.format(clf[1].__class__.__name__, best_param))\n",
    "    clf[1].set_params(**best_param) "
   ]
  },
  {
   "cell_type": "markdown",
   "id": "49a41958",
   "metadata": {
    "papermill": {
     "duration": 0.050911,
     "end_time": "2022-04-05T08:22:14.766739",
     "exception": false,
     "start_time": "2022-04-05T08:22:14.715828",
     "status": "completed"
    },
    "tags": []
   },
   "source": [
    "#### - Ensemble"
   ]
  },
  {
   "cell_type": "code",
   "execution_count": 26,
   "id": "addb7fec",
   "metadata": {
    "execution": {
     "iopub.execute_input": "2022-04-05T08:22:14.875496Z",
     "iopub.status.busy": "2022-04-05T08:22:14.874778Z",
     "iopub.status.idle": "2022-04-05T08:22:15.327914Z",
     "shell.execute_reply": "2022-04-05T08:22:15.327228Z",
     "shell.execute_reply.started": "2022-04-05T08:09:57.932774Z"
    },
    "papermill": {
     "duration": 0.510683,
     "end_time": "2022-04-05T08:22:15.328093",
     "exception": false,
     "start_time": "2022-04-05T08:22:14.817410",
     "status": "completed"
    },
    "tags": []
   },
   "outputs": [],
   "source": [
    "from sklearn.model_selection import cross_val_score\n",
    "votingC = VotingClassifier(estimators=classifiers, voting='soft', n_jobs=-1)\n",
    "votingC = votingC.fit(X_train, y)"
   ]
  },
  {
   "cell_type": "code",
   "execution_count": 27,
   "id": "130ec4d4",
   "metadata": {
    "execution": {
     "iopub.execute_input": "2022-04-05T08:22:15.438508Z",
     "iopub.status.busy": "2022-04-05T08:22:15.437622Z",
     "iopub.status.idle": "2022-04-05T08:22:15.714577Z",
     "shell.execute_reply": "2022-04-05T08:22:15.716379Z",
     "shell.execute_reply.started": "2022-04-05T08:11:50.204481Z"
    },
    "papermill": {
     "duration": 0.337495,
     "end_time": "2022-04-05T08:22:15.716686",
     "exception": false,
     "start_time": "2022-04-05T08:22:15.379191",
     "status": "completed"
    },
    "tags": []
   },
   "outputs": [
    {
     "name": "stdout",
     "output_type": "stream",
     "text": [
      "Your submission was successfully saved!\n"
     ]
    }
   ],
   "source": [
    "predictions = pd.Series(votingC.predict(X_test), name=\"Survived\")\n",
    "output = pd.DataFrame({'PassengerId': test_data.PassengerId, 'Survived': predictions})\n",
    "output.to_csv('submission.csv', index=False)\n",
    "print(\"Your submission was successfully saved!\")"
   ]
  },
  {
   "cell_type": "code",
   "execution_count": 1,
   "id": "94027431",
   "metadata": {
    "papermill": {
     "duration": 0.051281,
     "end_time": "2022-04-05T08:22:15.856770",
     "exception": false,
     "start_time": "2022-04-05T08:22:15.805489",
     "status": "completed"
    },
    "tags": []
   },
   "outputs": [
    {
     "data": {
      "image/png": "[encoded data removed]",
      "text/plain": [
       "<IPython.core.display.Image object>"
      ]
     },
     "execution_count": 1,
     "metadata": {},
     "output_type": "execute_result"
    }
   ],
   "source": [
    "from IPython.display import Image\n",
    "Image(\"HW7.png\")"
   ]
  },
  {
   "cell_type": "markdown",
   "id": "0a217c76",
   "metadata": {},
   "source": [
    "My final accuracy is 0.78947."
   ]
  }
 ],
 "metadata": {
  "kernelspec": {
   "display_name": "Python 3 (ipykernel)",
   "language": "python",
   "name": "python3"
  },
  "language_info": {
   "codemirror_mode": {
    "name": "ipython",
    "version": 3
   },
   "file_extension": ".py",
   "mimetype": "text/x-python",
   "name": "python",
   "nbconvert_exporter": "python",
   "pygments_lexer": "ipython3",
   "version": "3.8.12"
  },
  "papermill": {
   "default_parameters": {},
   "duration": 134.760929,
   "end_time": "2022-04-05T08:22:16.823534",
   "environment_variables": {},
   "exception": null,
   "input_path": "__notebook__.ipynb",
   "output_path": "__notebook__.ipynb",
   "parameters": {},
   "start_time": "2022-04-05T08:20:02.062605",
   "version": "2.3.3"
  }
 },
 "nbformat": 4,
 "nbformat_minor": 5
}
