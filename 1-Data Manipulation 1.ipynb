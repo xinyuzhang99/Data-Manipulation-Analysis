{
 "cells": [
  {
   "cell_type": "markdown",
   "metadata": {
    "colab_type": "text",
    "id": "UGqk3SzXsMR3"
   },
   "source": [
    "# SI 618 - Homework #1: Data Manipulation\n",
    "\n",
    "Version 2022.01.17.01.CT"
   ]
  },
  {
   "cell_type": "markdown",
   "metadata": {
    "colab_type": "text",
    "id": "Crxe7LeXJ9yn"
   },
   "source": [
    "## Background"
   ]
  },
  {
   "cell_type": "markdown",
   "metadata": {
    "colab_type": "text",
    "id": "1IaTA3GNJ9yo"
   },
   "source": [
    "This homework assignment focuses on the analysis of biometric data and exercise performance."
   ]
  },
  {
   "cell_type": "markdown",
   "metadata": {
    "colab_type": "text",
    "id": "jae-nANHJ9yp"
   },
   "source": [
    "Your main task in this assignment is to explore the data *using the data\n",
    "manipulation methods we covered in class* as well as those in the assigned readings.  You may need to consult pandas documentation, Stack Overflow, or other online resources.  \n"
   ]
  },
  {
   "cell_type": "markdown",
   "metadata": {
    "colab_type": "text",
    "id": "pbqbtPreaCjs"
   },
   "source": [
    "A total of 100 points is available in this homework assignment, consisting of:\n",
    "- 80 points for completing the specific homework questions. More comprehensive \n",
    "answers will tend to gain more points.\n",
    "- 10 points for the overall quality of spelling, grammar, punctuation, and style of written responses  (see [Strunk & White](https://drive.google.com/file/d/1L0P7xJwjUGBvyb49mL3dw1Bt7hzRTiTl/view) for detailed specifications).\n",
    "- 10 points for creating code that conforms to [PEP 8](https://www.python.org/dev/peps/pep-0008/) guidelines.  You should review those guidelines before proceding with the assignment.\n"
   ]
  },
  {
   "cell_type": "markdown",
   "metadata": {
    "colab_type": "text",
    "id": "Pr9WBUQyZY4V",
    "tags": []
   },
   "source": [
    "## Download the data from: \n",
    "https://www.kaggle.com/kukuroo3/body-performance-data\n"
   ]
  },
  {
   "cell_type": "markdown",
   "metadata": {
    "colab_type": "text",
    "id": "8EV1PilWtl0Z"
   },
   "source": [
    "## Answer the following questions.\n",
    "Points for each question are shown below.\n",
    "\n",
    "For each question, you should\n",
    "1. Write code using Python and pandas that can help you answer the following questions, and\n",
    "2. Explain your answers in plain English. You should use complete sentences that would be understood by an educated professional who is not necessarily a data scientist (like a product manager).  When we ask for an explanation of your answer, we are interested in your interpretation of the analyses that you produce.  With the exception of Question 1a, we are not interested in a description of the steps you took to arrive at your answer."
   ]
  },
  {
   "cell_type": "markdown",
   "metadata": {
    "colab_type": "text",
    "id": "PfjXDtHoabcS",
    "tags": []
   },
   "source": [
    "### <span style=\"color:magenta\"> Q1: 5 pt(total):</span>\n",
    "#### Q1a (2pt): Write out the steps you need to follow in order to describe the dataset, in terms of size, number of rows, and number of columns.\n",
    "\n"
   ]
  },
  {
   "cell_type": "markdown",
   "metadata": {},
   "source": [
    "**Answer.** \n",
    "1. Load the usual libraries needed (numpy, pandas, matplotlib etc.)\n",
    "1. Read the dataset file to create a dataframe\n",
    "1. The size of the dataset can be calculated by the shape of the dataframe\n",
    "1. The number of rows is also the length of the dataframe\n",
    "1. The number of columns can be calculated using an attribute called \"columns\""
   ]
  },
  {
   "cell_type": "markdown",
   "metadata": {},
   "source": [
    "#### Q1b (3pt): Write and execute the code that will do the steps you identified in Part (a) of this question."
   ]
  },
  {
   "cell_type": "code",
   "execution_count": 234,
   "metadata": {},
   "outputs": [
    {
     "name": "stdout",
     "output_type": "stream",
     "text": [
      "The shape of the dataset is:  (13393, 12)\n",
      "The number of rows of the dataset is:  13393\n",
      "The number of columns of the dataset is:  12\n"
     ]
    }
   ],
   "source": [
    "# Import useful libraries\n",
    "import numpy as np\n",
    "import pandas as pd\n",
    "%matplotlib inline \n",
    "\n",
    "# Read the dataset (csv file)\n",
    "df = pd.read_csv(\"/Users/xinyuzhang/Desktop/UMich/2022 Winter/SI 618/Homework/Homework 01/bodyPerformance.csv\")\n",
    "\n",
    "print(\"The shape of the dataset is: \", df.shape) # (row, column)\n",
    "print(\"The number of rows of the dataset is: \", len(df))\n",
    "print(\"The number of columns of the dataset is: \", len(df.columns))"
   ]
  },
  {
   "cell_type": "markdown",
   "metadata": {},
   "source": [
    "**Answer.** The dataset has 13393 rows and 12 columns."
   ]
  },
  {
   "cell_type": "markdown",
   "metadata": {},
   "source": [
    "### <span style=\"color:magenta\">Q2: 5 pt:</span>\n",
    "Without using pd.DataFrame.describe(), report the median age, height, and weight for people in the data. Round your answer to the nearest whole number.  Be sure to indicate units for each variable in your write-up."
   ]
  },
  {
   "cell_type": "code",
   "execution_count": 3,
   "metadata": {},
   "outputs": [
    {
     "name": "stdout",
     "output_type": "stream",
     "text": [
      "The median age of people in the data is: 32 years old\n",
      "The median height of people in the data is: 169cm\n",
      "The median weight of people in the data is: 67kg\n"
     ]
    }
   ],
   "source": [
    "print(\"The median age of people in the data is: \" + str(df['age'].median().round().astype(int)) + \" years old\")\n",
    "print(\"The median height of people in the data is: \" + str(df['height_cm'].median().round().astype(int)) + \"cm\")\n",
    "print(\"The median weight of people in the data is: \" + str(df['weight_kg'].median().round().astype(int)) + \"kg\")"
   ]
  },
  {
   "cell_type": "markdown",
   "metadata": {},
   "source": [
    "**Answer.**\n",
    "\n",
    "The median age of people in the data is 32 years old.\n",
    "\n",
    "The median height of people in the data is 169cm.\n",
    "\n",
    "The median weight of people in the data is: 67kg."
   ]
  },
  {
   "cell_type": "markdown",
   "metadata": {},
   "source": [
    "### <span style=\"color:magenta\">Q3: 5 pt: </span>\n",
    "Look for any anomalous data points.  For example, are there cases where diastolic blood pressure is higher than systolic blood pressure (which is physiologically impossible)?  Do you notice any other anomalies?"
   ]
  },
  {
   "cell_type": "code",
   "execution_count": 253,
   "metadata": {},
   "outputs": [
    {
     "data": {
      "text/html": [
       "<div>\n",
       "<style scoped>\n",
       "    .dataframe tbody tr th:only-of-type {\n",
       "        vertical-align: middle;\n",
       "    }\n",
       "\n",
       "    .dataframe tbody tr th {\n",
       "        vertical-align: top;\n",
       "    }\n",
       "\n",
       "    .dataframe thead th {\n",
       "        text-align: right;\n",
       "    }\n",
       "</style>\n",
       "<table border=\"1\" class=\"dataframe\">\n",
       "  <thead>\n",
       "    <tr style=\"text-align: right;\">\n",
       "      <th></th>\n",
       "      <th>age</th>\n",
       "      <th>gender</th>\n",
       "      <th>height_cm</th>\n",
       "      <th>weight_kg</th>\n",
       "      <th>body fat_%</th>\n",
       "      <th>diastolic</th>\n",
       "      <th>systolic</th>\n",
       "      <th>gripForce</th>\n",
       "      <th>sit and bend forward_cm</th>\n",
       "      <th>sit-ups counts</th>\n",
       "      <th>broad jump_cm</th>\n",
       "      <th>class</th>\n",
       "    </tr>\n",
       "  </thead>\n",
       "  <tbody>\n",
       "    <tr>\n",
       "      <th>7495</th>\n",
       "      <td>30.0</td>\n",
       "      <td>F</td>\n",
       "      <td>156.2</td>\n",
       "      <td>52.80</td>\n",
       "      <td>28.2</td>\n",
       "      <td>156.2</td>\n",
       "      <td>104.0</td>\n",
       "      <td>21.7</td>\n",
       "      <td>27.2</td>\n",
       "      <td>43.0</td>\n",
       "      <td>162.0</td>\n",
       "      <td>C</td>\n",
       "    </tr>\n",
       "    <tr>\n",
       "      <th>7597</th>\n",
       "      <td>30.0</td>\n",
       "      <td>M</td>\n",
       "      <td>166.6</td>\n",
       "      <td>66.08</td>\n",
       "      <td>14.4</td>\n",
       "      <td>67.0</td>\n",
       "      <td>14.0</td>\n",
       "      <td>53.8</td>\n",
       "      <td>17.2</td>\n",
       "      <td>57.0</td>\n",
       "      <td>221.0</td>\n",
       "      <td>A</td>\n",
       "    </tr>\n",
       "    <tr>\n",
       "      <th>8217</th>\n",
       "      <td>31.0</td>\n",
       "      <td>M</td>\n",
       "      <td>176.7</td>\n",
       "      <td>80.32</td>\n",
       "      <td>20.8</td>\n",
       "      <td>46.2</td>\n",
       "      <td>43.9</td>\n",
       "      <td>43.9</td>\n",
       "      <td>17.2</td>\n",
       "      <td>57.0</td>\n",
       "      <td>221.0</td>\n",
       "      <td>B</td>\n",
       "    </tr>\n",
       "    <tr>\n",
       "      <th>10624</th>\n",
       "      <td>26.0</td>\n",
       "      <td>F</td>\n",
       "      <td>160.0</td>\n",
       "      <td>63.56</td>\n",
       "      <td>32.0</td>\n",
       "      <td>0.0</td>\n",
       "      <td>0.0</td>\n",
       "      <td>23.7</td>\n",
       "      <td>17.1</td>\n",
       "      <td>23.0</td>\n",
       "      <td>128.0</td>\n",
       "      <td>D</td>\n",
       "    </tr>\n",
       "    <tr>\n",
       "      <th>12949</th>\n",
       "      <td>24.0</td>\n",
       "      <td>M</td>\n",
       "      <td>171.0</td>\n",
       "      <td>78.70</td>\n",
       "      <td>20.0</td>\n",
       "      <td>99.0</td>\n",
       "      <td>95.0</td>\n",
       "      <td>46.5</td>\n",
       "      <td>12.8</td>\n",
       "      <td>50.0</td>\n",
       "      <td>197.0</td>\n",
       "      <td>D</td>\n",
       "    </tr>\n",
       "  </tbody>\n",
       "</table>\n",
       "</div>"
      ],
      "text/plain": [
       "        age gender  height_cm  weight_kg  body fat_%  diastolic  systolic  \\\n",
       "7495   30.0      F      156.2      52.80        28.2      156.2     104.0   \n",
       "7597   30.0      M      166.6      66.08        14.4       67.0      14.0   \n",
       "8217   31.0      M      176.7      80.32        20.8       46.2      43.9   \n",
       "10624  26.0      F      160.0      63.56        32.0        0.0       0.0   \n",
       "12949  24.0      M      171.0      78.70        20.0       99.0      95.0   \n",
       "\n",
       "       gripForce  sit and bend forward_cm  sit-ups counts  broad jump_cm class  \n",
       "7495        21.7                     27.2            43.0          162.0     C  \n",
       "7597        53.8                     17.2            57.0          221.0     A  \n",
       "8217        43.9                     17.2            57.0          221.0     B  \n",
       "10624       23.7                     17.1            23.0          128.0     D  \n",
       "12949       46.5                     12.8            50.0          197.0     D  "
      ]
     },
     "execution_count": 253,
     "metadata": {},
     "output_type": "execute_result"
    }
   ],
   "source": [
    "df[df.diastolic >= df.systolic]"
   ]
  },
  {
   "cell_type": "code",
   "execution_count": 239,
   "metadata": {},
   "outputs": [
    {
     "data": {
      "text/html": [
       "<div>\n",
       "<style scoped>\n",
       "    .dataframe tbody tr th:only-of-type {\n",
       "        vertical-align: middle;\n",
       "    }\n",
       "\n",
       "    .dataframe tbody tr th {\n",
       "        vertical-align: top;\n",
       "    }\n",
       "\n",
       "    .dataframe thead th {\n",
       "        text-align: right;\n",
       "    }\n",
       "</style>\n",
       "<table border=\"1\" class=\"dataframe\">\n",
       "  <thead>\n",
       "    <tr style=\"text-align: right;\">\n",
       "      <th></th>\n",
       "      <th>age</th>\n",
       "      <th>gender</th>\n",
       "      <th>height_cm</th>\n",
       "      <th>weight_kg</th>\n",
       "      <th>body fat_%</th>\n",
       "      <th>diastolic</th>\n",
       "      <th>systolic</th>\n",
       "      <th>gripForce</th>\n",
       "      <th>sit and bend forward_cm</th>\n",
       "      <th>sit-ups counts</th>\n",
       "      <th>broad jump_cm</th>\n",
       "      <th>class</th>\n",
       "    </tr>\n",
       "  </thead>\n",
       "  <tbody>\n",
       "    <tr>\n",
       "      <th>10624</th>\n",
       "      <td>26.0</td>\n",
       "      <td>F</td>\n",
       "      <td>160.0</td>\n",
       "      <td>63.56</td>\n",
       "      <td>32.0</td>\n",
       "      <td>0.0</td>\n",
       "      <td>0.0</td>\n",
       "      <td>23.7</td>\n",
       "      <td>17.1</td>\n",
       "      <td>23.0</td>\n",
       "      <td>128.0</td>\n",
       "      <td>D</td>\n",
       "    </tr>\n",
       "  </tbody>\n",
       "</table>\n",
       "</div>"
      ],
      "text/plain": [
       "        age gender  height_cm  weight_kg  body fat_%  diastolic  systolic  \\\n",
       "10624  26.0      F      160.0      63.56        32.0        0.0       0.0   \n",
       "\n",
       "       gripForce  sit and bend forward_cm  sit-ups counts  broad jump_cm class  \n",
       "10624       23.7                     17.1            23.0          128.0     D  "
      ]
     },
     "execution_count": 239,
     "metadata": {},
     "output_type": "execute_result"
    }
   ],
   "source": [
    "df[(df.diastolic == 0) | (df.systolic == 0)]"
   ]
  },
  {
   "cell_type": "code",
   "execution_count": 256,
   "metadata": {},
   "outputs": [
    {
     "data": {
      "text/html": [
       "<div>\n",
       "<style scoped>\n",
       "    .dataframe tbody tr th:only-of-type {\n",
       "        vertical-align: middle;\n",
       "    }\n",
       "\n",
       "    .dataframe tbody tr th {\n",
       "        vertical-align: top;\n",
       "    }\n",
       "\n",
       "    .dataframe thead th {\n",
       "        text-align: right;\n",
       "    }\n",
       "</style>\n",
       "<table border=\"1\" class=\"dataframe\">\n",
       "  <thead>\n",
       "    <tr style=\"text-align: right;\">\n",
       "      <th></th>\n",
       "      <th>age</th>\n",
       "      <th>gender</th>\n",
       "      <th>height_cm</th>\n",
       "      <th>weight_kg</th>\n",
       "      <th>body fat_%</th>\n",
       "      <th>diastolic</th>\n",
       "      <th>systolic</th>\n",
       "      <th>gripForce</th>\n",
       "      <th>sit and bend forward_cm</th>\n",
       "      <th>sit-ups counts</th>\n",
       "      <th>broad jump_cm</th>\n",
       "      <th>class</th>\n",
       "    </tr>\n",
       "  </thead>\n",
       "  <tbody>\n",
       "    <tr>\n",
       "      <th>484</th>\n",
       "      <td>22.0</td>\n",
       "      <td>F</td>\n",
       "      <td>167.4</td>\n",
       "      <td>66.2</td>\n",
       "      <td>34.0</td>\n",
       "      <td>62.0</td>\n",
       "      <td>110.0</td>\n",
       "      <td>28.5</td>\n",
       "      <td>11.2</td>\n",
       "      <td>38.0</td>\n",
       "      <td>0.0</td>\n",
       "      <td>C</td>\n",
       "    </tr>\n",
       "    <tr>\n",
       "      <th>712</th>\n",
       "      <td>58.0</td>\n",
       "      <td>M</td>\n",
       "      <td>168.7</td>\n",
       "      <td>76.1</td>\n",
       "      <td>27.5</td>\n",
       "      <td>84.0</td>\n",
       "      <td>139.0</td>\n",
       "      <td>34.5</td>\n",
       "      <td>2.0</td>\n",
       "      <td>0.0</td>\n",
       "      <td>0.0</td>\n",
       "      <td>D</td>\n",
       "    </tr>\n",
       "    <tr>\n",
       "      <th>1919</th>\n",
       "      <td>59.0</td>\n",
       "      <td>F</td>\n",
       "      <td>162.9</td>\n",
       "      <td>61.0</td>\n",
       "      <td>32.6</td>\n",
       "      <td>82.0</td>\n",
       "      <td>123.0</td>\n",
       "      <td>29.7</td>\n",
       "      <td>19.5</td>\n",
       "      <td>0.0</td>\n",
       "      <td>0.0</td>\n",
       "      <td>D</td>\n",
       "    </tr>\n",
       "    <tr>\n",
       "      <th>4756</th>\n",
       "      <td>28.0</td>\n",
       "      <td>M</td>\n",
       "      <td>176.6</td>\n",
       "      <td>82.2</td>\n",
       "      <td>20.7</td>\n",
       "      <td>83.0</td>\n",
       "      <td>126.0</td>\n",
       "      <td>40.9</td>\n",
       "      <td>17.6</td>\n",
       "      <td>46.0</td>\n",
       "      <td>0.0</td>\n",
       "      <td>C</td>\n",
       "    </tr>\n",
       "    <tr>\n",
       "      <th>4900</th>\n",
       "      <td>60.0</td>\n",
       "      <td>F</td>\n",
       "      <td>162.2</td>\n",
       "      <td>67.3</td>\n",
       "      <td>41.8</td>\n",
       "      <td>47.0</td>\n",
       "      <td>131.0</td>\n",
       "      <td>22.1</td>\n",
       "      <td>19.5</td>\n",
       "      <td>0.0</td>\n",
       "      <td>0.0</td>\n",
       "      <td>D</td>\n",
       "    </tr>\n",
       "    <tr>\n",
       "      <th>7366</th>\n",
       "      <td>50.0</td>\n",
       "      <td>M</td>\n",
       "      <td>178.2</td>\n",
       "      <td>88.4</td>\n",
       "      <td>23.4</td>\n",
       "      <td>85.0</td>\n",
       "      <td>146.0</td>\n",
       "      <td>54.9</td>\n",
       "      <td>19.3</td>\n",
       "      <td>51.0</td>\n",
       "      <td>0.0</td>\n",
       "      <td>C</td>\n",
       "    </tr>\n",
       "    <tr>\n",
       "      <th>7721</th>\n",
       "      <td>56.0</td>\n",
       "      <td>F</td>\n",
       "      <td>156.0</td>\n",
       "      <td>51.1</td>\n",
       "      <td>28.4</td>\n",
       "      <td>73.0</td>\n",
       "      <td>113.0</td>\n",
       "      <td>20.7</td>\n",
       "      <td>23.0</td>\n",
       "      <td>23.0</td>\n",
       "      <td>0.0</td>\n",
       "      <td>C</td>\n",
       "    </tr>\n",
       "    <tr>\n",
       "      <th>7944</th>\n",
       "      <td>45.0</td>\n",
       "      <td>F</td>\n",
       "      <td>153.4</td>\n",
       "      <td>33.7</td>\n",
       "      <td>16.1</td>\n",
       "      <td>81.0</td>\n",
       "      <td>124.0</td>\n",
       "      <td>6.7</td>\n",
       "      <td>11.5</td>\n",
       "      <td>8.0</td>\n",
       "      <td>0.0</td>\n",
       "      <td>D</td>\n",
       "    </tr>\n",
       "    <tr>\n",
       "      <th>7954</th>\n",
       "      <td>61.0</td>\n",
       "      <td>F</td>\n",
       "      <td>153.0</td>\n",
       "      <td>64.6</td>\n",
       "      <td>31.4</td>\n",
       "      <td>77.0</td>\n",
       "      <td>152.0</td>\n",
       "      <td>14.0</td>\n",
       "      <td>20.6</td>\n",
       "      <td>0.0</td>\n",
       "      <td>0.0</td>\n",
       "      <td>D</td>\n",
       "    </tr>\n",
       "    <tr>\n",
       "      <th>8599</th>\n",
       "      <td>60.0</td>\n",
       "      <td>F</td>\n",
       "      <td>160.0</td>\n",
       "      <td>76.9</td>\n",
       "      <td>50.3</td>\n",
       "      <td>82.0</td>\n",
       "      <td>141.0</td>\n",
       "      <td>20.1</td>\n",
       "      <td>-8.1</td>\n",
       "      <td>0.0</td>\n",
       "      <td>0.0</td>\n",
       "      <td>D</td>\n",
       "    </tr>\n",
       "  </tbody>\n",
       "</table>\n",
       "</div>"
      ],
      "text/plain": [
       "       age gender  height_cm  weight_kg  body fat_%  diastolic  systolic  \\\n",
       "484   22.0      F      167.4       66.2        34.0       62.0     110.0   \n",
       "712   58.0      M      168.7       76.1        27.5       84.0     139.0   \n",
       "1919  59.0      F      162.9       61.0        32.6       82.0     123.0   \n",
       "4756  28.0      M      176.6       82.2        20.7       83.0     126.0   \n",
       "4900  60.0      F      162.2       67.3        41.8       47.0     131.0   \n",
       "7366  50.0      M      178.2       88.4        23.4       85.0     146.0   \n",
       "7721  56.0      F      156.0       51.1        28.4       73.0     113.0   \n",
       "7944  45.0      F      153.4       33.7        16.1       81.0     124.0   \n",
       "7954  61.0      F      153.0       64.6        31.4       77.0     152.0   \n",
       "8599  60.0      F      160.0       76.9        50.3       82.0     141.0   \n",
       "\n",
       "      gripForce  sit and bend forward_cm  sit-ups counts  broad jump_cm class  \n",
       "484        28.5                     11.2            38.0            0.0     C  \n",
       "712        34.5                      2.0             0.0            0.0     D  \n",
       "1919       29.7                     19.5             0.0            0.0     D  \n",
       "4756       40.9                     17.6            46.0            0.0     C  \n",
       "4900       22.1                     19.5             0.0            0.0     D  \n",
       "7366       54.9                     19.3            51.0            0.0     C  \n",
       "7721       20.7                     23.0            23.0            0.0     C  \n",
       "7944        6.7                     11.5             8.0            0.0     D  \n",
       "7954       14.0                     20.6             0.0            0.0     D  \n",
       "8599       20.1                     -8.1             0.0            0.0     D  "
      ]
     },
     "execution_count": 256,
     "metadata": {},
     "output_type": "execute_result"
    }
   ],
   "source": [
    "df[df['broad jump_cm'] == 0]"
   ]
  },
  {
   "cell_type": "code",
   "execution_count": 249,
   "metadata": {},
   "outputs": [
    {
     "data": {
      "text/html": [
       "<div>\n",
       "<style scoped>\n",
       "    .dataframe tbody tr th:only-of-type {\n",
       "        vertical-align: middle;\n",
       "    }\n",
       "\n",
       "    .dataframe tbody tr th {\n",
       "        vertical-align: top;\n",
       "    }\n",
       "\n",
       "    .dataframe thead th {\n",
       "        text-align: right;\n",
       "    }\n",
       "</style>\n",
       "<table border=\"1\" class=\"dataframe\">\n",
       "  <thead>\n",
       "    <tr style=\"text-align: right;\">\n",
       "      <th></th>\n",
       "      <th>age</th>\n",
       "      <th>gender</th>\n",
       "      <th>height_cm</th>\n",
       "      <th>weight_kg</th>\n",
       "      <th>body fat_%</th>\n",
       "      <th>diastolic</th>\n",
       "      <th>systolic</th>\n",
       "      <th>gripForce</th>\n",
       "      <th>sit and bend forward_cm</th>\n",
       "      <th>sit-ups counts</th>\n",
       "      <th>broad jump_cm</th>\n",
       "      <th>class</th>\n",
       "    </tr>\n",
       "  </thead>\n",
       "  <tbody>\n",
       "    <tr>\n",
       "      <th>11</th>\n",
       "      <td>57.0</td>\n",
       "      <td>F</td>\n",
       "      <td>153.0</td>\n",
       "      <td>49.0</td>\n",
       "      <td>20.9</td>\n",
       "      <td>69.0</td>\n",
       "      <td>106.0</td>\n",
       "      <td>21.5</td>\n",
       "      <td>30.0</td>\n",
       "      <td>0.0</td>\n",
       "      <td>90.0</td>\n",
       "      <td>D</td>\n",
       "    </tr>\n",
       "    <tr>\n",
       "      <th>136</th>\n",
       "      <td>61.0</td>\n",
       "      <td>F</td>\n",
       "      <td>153.2</td>\n",
       "      <td>62.2</td>\n",
       "      <td>37.0</td>\n",
       "      <td>71.0</td>\n",
       "      <td>111.0</td>\n",
       "      <td>25.7</td>\n",
       "      <td>3.0</td>\n",
       "      <td>0.0</td>\n",
       "      <td>58.0</td>\n",
       "      <td>D</td>\n",
       "    </tr>\n",
       "    <tr>\n",
       "      <th>189</th>\n",
       "      <td>56.0</td>\n",
       "      <td>F</td>\n",
       "      <td>148.2</td>\n",
       "      <td>54.7</td>\n",
       "      <td>37.7</td>\n",
       "      <td>85.0</td>\n",
       "      <td>125.0</td>\n",
       "      <td>22.7</td>\n",
       "      <td>10.7</td>\n",
       "      <td>0.0</td>\n",
       "      <td>134.0</td>\n",
       "      <td>D</td>\n",
       "    </tr>\n",
       "    <tr>\n",
       "      <th>405</th>\n",
       "      <td>57.0</td>\n",
       "      <td>F</td>\n",
       "      <td>159.2</td>\n",
       "      <td>68.6</td>\n",
       "      <td>32.1</td>\n",
       "      <td>91.0</td>\n",
       "      <td>154.0</td>\n",
       "      <td>30.2</td>\n",
       "      <td>20.6</td>\n",
       "      <td>0.0</td>\n",
       "      <td>133.0</td>\n",
       "      <td>D</td>\n",
       "    </tr>\n",
       "    <tr>\n",
       "      <th>499</th>\n",
       "      <td>61.0</td>\n",
       "      <td>F</td>\n",
       "      <td>164.7</td>\n",
       "      <td>82.3</td>\n",
       "      <td>43.7</td>\n",
       "      <td>85.0</td>\n",
       "      <td>145.0</td>\n",
       "      <td>23.5</td>\n",
       "      <td>15.2</td>\n",
       "      <td>0.0</td>\n",
       "      <td>51.0</td>\n",
       "      <td>D</td>\n",
       "    </tr>\n",
       "    <tr>\n",
       "      <th>...</th>\n",
       "      <td>...</td>\n",
       "      <td>...</td>\n",
       "      <td>...</td>\n",
       "      <td>...</td>\n",
       "      <td>...</td>\n",
       "      <td>...</td>\n",
       "      <td>...</td>\n",
       "      <td>...</td>\n",
       "      <td>...</td>\n",
       "      <td>...</td>\n",
       "      <td>...</td>\n",
       "      <td>...</td>\n",
       "    </tr>\n",
       "    <tr>\n",
       "      <th>12486</th>\n",
       "      <td>64.0</td>\n",
       "      <td>F</td>\n",
       "      <td>154.1</td>\n",
       "      <td>62.3</td>\n",
       "      <td>39.3</td>\n",
       "      <td>69.0</td>\n",
       "      <td>121.0</td>\n",
       "      <td>24.9</td>\n",
       "      <td>17.2</td>\n",
       "      <td>0.0</td>\n",
       "      <td>116.0</td>\n",
       "      <td>D</td>\n",
       "    </tr>\n",
       "    <tr>\n",
       "      <th>12631</th>\n",
       "      <td>52.0</td>\n",
       "      <td>F</td>\n",
       "      <td>157.6</td>\n",
       "      <td>53.9</td>\n",
       "      <td>32.9</td>\n",
       "      <td>78.0</td>\n",
       "      <td>120.0</td>\n",
       "      <td>16.9</td>\n",
       "      <td>3.3</td>\n",
       "      <td>0.0</td>\n",
       "      <td>118.0</td>\n",
       "      <td>D</td>\n",
       "    </tr>\n",
       "    <tr>\n",
       "      <th>12678</th>\n",
       "      <td>60.0</td>\n",
       "      <td>F</td>\n",
       "      <td>161.2</td>\n",
       "      <td>56.8</td>\n",
       "      <td>25.5</td>\n",
       "      <td>75.0</td>\n",
       "      <td>147.0</td>\n",
       "      <td>22.5</td>\n",
       "      <td>13.6</td>\n",
       "      <td>0.0</td>\n",
       "      <td>106.0</td>\n",
       "      <td>D</td>\n",
       "    </tr>\n",
       "    <tr>\n",
       "      <th>12725</th>\n",
       "      <td>63.0</td>\n",
       "      <td>F</td>\n",
       "      <td>154.0</td>\n",
       "      <td>47.0</td>\n",
       "      <td>31.8</td>\n",
       "      <td>95.0</td>\n",
       "      <td>145.0</td>\n",
       "      <td>21.5</td>\n",
       "      <td>-4.0</td>\n",
       "      <td>0.0</td>\n",
       "      <td>70.0</td>\n",
       "      <td>D</td>\n",
       "    </tr>\n",
       "    <tr>\n",
       "      <th>13391</th>\n",
       "      <td>64.0</td>\n",
       "      <td>F</td>\n",
       "      <td>146.1</td>\n",
       "      <td>57.7</td>\n",
       "      <td>40.4</td>\n",
       "      <td>68.0</td>\n",
       "      <td>121.0</td>\n",
       "      <td>19.3</td>\n",
       "      <td>9.2</td>\n",
       "      <td>0.0</td>\n",
       "      <td>75.0</td>\n",
       "      <td>D</td>\n",
       "    </tr>\n",
       "  </tbody>\n",
       "</table>\n",
       "<p>125 rows × 12 columns</p>\n",
       "</div>"
      ],
      "text/plain": [
       "        age gender  height_cm  weight_kg  body fat_%  diastolic  systolic  \\\n",
       "11     57.0      F      153.0       49.0        20.9       69.0     106.0   \n",
       "136    61.0      F      153.2       62.2        37.0       71.0     111.0   \n",
       "189    56.0      F      148.2       54.7        37.7       85.0     125.0   \n",
       "405    57.0      F      159.2       68.6        32.1       91.0     154.0   \n",
       "499    61.0      F      164.7       82.3        43.7       85.0     145.0   \n",
       "...     ...    ...        ...        ...         ...        ...       ...   \n",
       "12486  64.0      F      154.1       62.3        39.3       69.0     121.0   \n",
       "12631  52.0      F      157.6       53.9        32.9       78.0     120.0   \n",
       "12678  60.0      F      161.2       56.8        25.5       75.0     147.0   \n",
       "12725  63.0      F      154.0       47.0        31.8       95.0     145.0   \n",
       "13391  64.0      F      146.1       57.7        40.4       68.0     121.0   \n",
       "\n",
       "       gripForce  sit and bend forward_cm  sit-ups counts  broad jump_cm class  \n",
       "11          21.5                     30.0             0.0           90.0     D  \n",
       "136         25.7                      3.0             0.0           58.0     D  \n",
       "189         22.7                     10.7             0.0          134.0     D  \n",
       "405         30.2                     20.6             0.0          133.0     D  \n",
       "499         23.5                     15.2             0.0           51.0     D  \n",
       "...          ...                      ...             ...            ...   ...  \n",
       "12486       24.9                     17.2             0.0          116.0     D  \n",
       "12631       16.9                      3.3             0.0          118.0     D  \n",
       "12678       22.5                     13.6             0.0          106.0     D  \n",
       "12725       21.5                     -4.0             0.0           70.0     D  \n",
       "13391       19.3                      9.2             0.0           75.0     D  \n",
       "\n",
       "[125 rows x 12 columns]"
      ]
     },
     "execution_count": 249,
     "metadata": {},
     "output_type": "execute_result"
    }
   ],
   "source": [
    "df[df['sit-ups counts'] == 0]"
   ]
  },
  {
   "cell_type": "markdown",
   "metadata": {},
   "source": [
    "**Answer.**\n",
    "There are four abnormal data types found in the dataset.\n",
    "1. There are 5 people whose diastolic pressure is higher than their systolic pressure.\n",
    "1. One female participant has 0 diastolic pressure and 0 systolic pressure, maybe the according data is lost.\n",
    "1. 10 people did not do broad jump.\n",
    "1. 125 participants did not do any sit-ups or could not do any sit-ups."
   ]
  },
  {
   "cell_type": "markdown",
   "metadata": {},
   "source": [
    "### <span style=\"color:magenta\">Q4: 10 pt:</span>\n",
    "Generate histogram plots for the age, weight, and height for gender F participants. Describe the plots and point out any interesting aspects."
   ]
  },
  {
   "cell_type": "code",
   "execution_count": 135,
   "metadata": {},
   "outputs": [
    {
     "data": {
      "text/plain": [
       "<AxesSubplot:title={'center':'Age for Female Participants'}, ylabel='Frequency'>"
      ]
     },
     "execution_count": 135,
     "metadata": {},
     "output_type": "execute_result"
    },
    {
     "data": {
      "image/png": "[encoded data removed]",
      "text/plain": [
       "<Figure size 432x288 with 1 Axes>"
      ]
     },
     "metadata": {
      "needs_background": "light"
     },
     "output_type": "display_data"
    }
   ],
   "source": [
    "# Filter out gender F participants and generate histogram plots for each characteristic\n",
    "df[df.gender == 'F'].age.plot.hist(title = 'Age for Female Participants')"
   ]
  },
  {
   "cell_type": "code",
   "execution_count": 142,
   "metadata": {},
   "outputs": [
    {
     "data": {
      "text/plain": [
       "<AxesSubplot:title={'center':'Weight for Female Participants (kg)'}, ylabel='Frequency'>"
      ]
     },
     "execution_count": 142,
     "metadata": {},
     "output_type": "execute_result"
    },
    {
     "data": {
      "image/png": "[encoded data removed]",
      "text/plain": [
       "<Figure size 432x288 with 1 Axes>"
      ]
     },
     "metadata": {
      "needs_background": "light"
     },
     "output_type": "display_data"
    }
   ],
   "source": [
    "df[df.gender == 'F'].weight_kg.plot.hist(title = 'Weight for Female Participants (kg)')"
   ]
  },
  {
   "cell_type": "code",
   "execution_count": 143,
   "metadata": {},
   "outputs": [
    {
     "data": {
      "text/plain": [
       "<AxesSubplot:title={'center':'Height for Female Participants (cm)'}, ylabel='Frequency'>"
      ]
     },
     "execution_count": 143,
     "metadata": {},
     "output_type": "execute_result"
    },
    {
     "data": {
      "image/png": "[encoded data removed]",
      "text/plain": [
       "<Figure size 432x288 with 1 Axes>"
      ]
     },
     "metadata": {
      "needs_background": "light"
     },
     "output_type": "display_data"
    }
   ],
   "source": [
    "df[df.gender == 'F'].height_cm.plot.hist(title = 'Height for Female Participants (cm)')"
   ]
  },
  {
   "cell_type": "markdown",
   "metadata": {},
   "source": [
    "**Answer.** The histogram plots for the age, weight and height for female participants are generated above. There are several observations:\n",
    "\n",
    "1. The age range is wide (from 20s to 60s) and the largest portion of female participants are young people among 20s.\n",
    "1. The weight ranges mostly from 30 to 90 kilograms. Compared with the age data, the weight data ranges is more concentrated around the mean value.\n",
    "1. The height of female participants ranges from 135 to 178cm, Most of the females' heights are about in the range of 150 to 170cm. The data is concentrated around the mean value."
   ]
  },
  {
   "cell_type": "markdown",
   "metadata": {
    "colab_type": "text",
    "id": "0u5VM5ksbCTm",
    "tags": []
   },
   "source": [
    "### <span style=\"color:magenta\">Q5: 10 pt:</span>\n",
    "Blood pressure is reported as two numbers: diastolic (the lower number) and systolic (the higher number).  So, for example, if a person has a diastolic measurement of 80 and a systolic measurement of 120, the person's blood pressure would be reported as 120/80.\n",
    "\n",
    "Blood pressure measurements fall into several categories:\n",
    "\n",
    "Normal blood pressure. Your blood pressure is normal if it's below 120/80 mm Hg.\n",
    "\n",
    "Elevated blood pressure. Elevated blood pressure is a systolic pressure ranging from 120 to 129 mm Hg and a diastolic pressure below (not above) 80 mm Hg. Elevated blood pressure tends to get worse over time unless steps are taken to control blood pressure. Elevated blood pressure may also be called prehypertension.\n",
    "\n",
    "Stage 1 hypertension. Stage 1 hypertension is a systolic pressure ranging from 130 to 139 mm Hg or a diastolic pressure ranging from 80 to 89 mm Hg.\n",
    "\n",
    "Stage 2 hypertension. More-severe hypertension, stage 2 hypertension is a systolic pressure of 140 mm Hg or higher or a diastolic pressure of 90 mm Hg or higher.\n",
    "\n",
    "Hypertensive crisis. A blood pressure measurement higher than 180/120 mm Hg is an emergency situation that requires urgent medical care. If you get this result when you take your blood pressure at home, wait five minutes and retest. If your blood pressure is still this high, contact your doctor immediately. If you also have chest pain, vision problems, numbness or weakness, breathing difficulty, or any other signs and symptoms of a stroke or heart attack, call 911 or your local emergency medical number.\n",
    "\n",
    "Report the number of people in each of those categories."
   ]
  },
  {
   "cell_type": "code",
   "execution_count": 194,
   "metadata": {},
   "outputs": [
    {
     "name": "stdout",
     "output_type": "stream",
     "text": [
      "The number of people with normal blood pressure is 2898.\n",
      "The number of people with elevated blood pressure is 2090.\n",
      "The number of people with stage 1 hypertension is 5936.\n",
      "The number of people with stage 2 hypertension is 4418.\n",
      "The number of people with hypertensive is 1.\n"
     ]
    }
   ],
   "source": [
    "# Filter out people in each category and count the values\n",
    "\n",
    "# Category 1: normal blood pressure\n",
    "print('The number of people with normal blood pressure is ' + str(len(df[(df.diastolic < 80) & (df.systolic < 120)])) + '.')\n",
    "\n",
    "# Category 2: elevated blood pressure\n",
    "print('The number of people with elevated blood pressure is ' + str(len(df[(df.diastolic < 80) & (df.systolic >= 120) & (df.systolic <= 129)])) + '.')\n",
    "\n",
    "# Stage 1 hypertension\n",
    "print('The number of people with stage 1 hypertension is ' + str(len(df[((df.diastolic >= 80) & (df.diastolic <= 89)) | ((df.systolic >= 130) & (df.systolic <= 139))])) + '.')\n",
    "\n",
    "# Stage 2 hypertension\n",
    "print('The number of people with stage 2 hypertension is ' + str(len(df[(df.diastolic >= 90) | (df.systolic >= 140)])) + '.')\n",
    "\n",
    "# Hypertensive crisis\n",
    "print('The number of people with hypertensive is ' + str(len(df[(df.diastolic > 120) & (df.systolic > 180)])) + '.')"
   ]
  },
  {
   "cell_type": "markdown",
   "metadata": {
    "colab_type": "text",
    "id": "CCuxztg3uYPQ"
   },
   "source": [
    "**Answer.** The number of people in each category is printed above."
   ]
  },
  {
   "cell_type": "markdown",
   "metadata": {
    "colab_type": "text",
    "id": "2wH5ikUcbb16",
    "tags": []
   },
   "source": [
    "### <span style=\"color:magenta\">Q6: 10 pt:</span>\n",
    "Create a new variable \"age_class\" that is \"early\" if age < 40, \"middle\" if age is between 40 and 60 (inclusive) and \"late\" if age > 60.  Report the mean number of sit-ups counts for each of those categories.\n"
   ]
  },
  {
   "cell_type": "code",
   "execution_count": 139,
   "metadata": {
    "colab": {},
    "colab_type": "code",
    "id": "GneWWgFVt62N"
   },
   "outputs": [
    {
     "data": {
      "text/html": [
       "<div>\n",
       "<style scoped>\n",
       "    .dataframe tbody tr th:only-of-type {\n",
       "        vertical-align: middle;\n",
       "    }\n",
       "\n",
       "    .dataframe tbody tr th {\n",
       "        vertical-align: top;\n",
       "    }\n",
       "\n",
       "    .dataframe thead th {\n",
       "        text-align: right;\n",
       "    }\n",
       "</style>\n",
       "<table border=\"1\" class=\"dataframe\">\n",
       "  <thead>\n",
       "    <tr style=\"text-align: right;\">\n",
       "      <th></th>\n",
       "      <th>age</th>\n",
       "      <th>gender</th>\n",
       "      <th>height_cm</th>\n",
       "      <th>weight_kg</th>\n",
       "      <th>body fat_%</th>\n",
       "      <th>diastolic</th>\n",
       "      <th>systolic</th>\n",
       "      <th>gripForce</th>\n",
       "      <th>sit and bend forward_cm</th>\n",
       "      <th>sit-ups counts</th>\n",
       "      <th>broad jump_cm</th>\n",
       "      <th>class</th>\n",
       "      <th>age_class</th>\n",
       "      <th>BMI</th>\n",
       "    </tr>\n",
       "  </thead>\n",
       "  <tbody>\n",
       "    <tr>\n",
       "      <th>0</th>\n",
       "      <td>27.0</td>\n",
       "      <td>M</td>\n",
       "      <td>172.3</td>\n",
       "      <td>75.24</td>\n",
       "      <td>21.3</td>\n",
       "      <td>80.0</td>\n",
       "      <td>130.0</td>\n",
       "      <td>54.9</td>\n",
       "      <td>18.4</td>\n",
       "      <td>60.0</td>\n",
       "      <td>217.0</td>\n",
       "      <td>C</td>\n",
       "      <td>early</td>\n",
       "      <td>25.344179</td>\n",
       "    </tr>\n",
       "    <tr>\n",
       "      <th>1</th>\n",
       "      <td>25.0</td>\n",
       "      <td>M</td>\n",
       "      <td>165.0</td>\n",
       "      <td>55.80</td>\n",
       "      <td>15.7</td>\n",
       "      <td>77.0</td>\n",
       "      <td>126.0</td>\n",
       "      <td>36.4</td>\n",
       "      <td>16.3</td>\n",
       "      <td>53.0</td>\n",
       "      <td>229.0</td>\n",
       "      <td>A</td>\n",
       "      <td>early</td>\n",
       "      <td>20.495868</td>\n",
       "    </tr>\n",
       "    <tr>\n",
       "      <th>2</th>\n",
       "      <td>31.0</td>\n",
       "      <td>M</td>\n",
       "      <td>179.6</td>\n",
       "      <td>78.00</td>\n",
       "      <td>20.1</td>\n",
       "      <td>92.0</td>\n",
       "      <td>152.0</td>\n",
       "      <td>44.8</td>\n",
       "      <td>12.0</td>\n",
       "      <td>49.0</td>\n",
       "      <td>181.0</td>\n",
       "      <td>C</td>\n",
       "      <td>early</td>\n",
       "      <td>24.181428</td>\n",
       "    </tr>\n",
       "    <tr>\n",
       "      <th>3</th>\n",
       "      <td>32.0</td>\n",
       "      <td>M</td>\n",
       "      <td>174.5</td>\n",
       "      <td>71.10</td>\n",
       "      <td>18.4</td>\n",
       "      <td>76.0</td>\n",
       "      <td>147.0</td>\n",
       "      <td>41.4</td>\n",
       "      <td>15.2</td>\n",
       "      <td>53.0</td>\n",
       "      <td>219.0</td>\n",
       "      <td>B</td>\n",
       "      <td>early</td>\n",
       "      <td>23.349562</td>\n",
       "    </tr>\n",
       "    <tr>\n",
       "      <th>4</th>\n",
       "      <td>28.0</td>\n",
       "      <td>M</td>\n",
       "      <td>173.8</td>\n",
       "      <td>67.70</td>\n",
       "      <td>17.1</td>\n",
       "      <td>70.0</td>\n",
       "      <td>127.0</td>\n",
       "      <td>43.5</td>\n",
       "      <td>27.1</td>\n",
       "      <td>45.0</td>\n",
       "      <td>217.0</td>\n",
       "      <td>B</td>\n",
       "      <td>early</td>\n",
       "      <td>22.412439</td>\n",
       "    </tr>\n",
       "  </tbody>\n",
       "</table>\n",
       "</div>"
      ],
      "text/plain": [
       "    age gender  height_cm  weight_kg  body fat_%  diastolic  systolic  \\\n",
       "0  27.0      M      172.3      75.24        21.3       80.0     130.0   \n",
       "1  25.0      M      165.0      55.80        15.7       77.0     126.0   \n",
       "2  31.0      M      179.6      78.00        20.1       92.0     152.0   \n",
       "3  32.0      M      174.5      71.10        18.4       76.0     147.0   \n",
       "4  28.0      M      173.8      67.70        17.1       70.0     127.0   \n",
       "\n",
       "   gripForce  sit and bend forward_cm  sit-ups counts  broad jump_cm class  \\\n",
       "0       54.9                     18.4            60.0          217.0     C   \n",
       "1       36.4                     16.3            53.0          229.0     A   \n",
       "2       44.8                     12.0            49.0          181.0     C   \n",
       "3       41.4                     15.2            53.0          219.0     B   \n",
       "4       43.5                     27.1            45.0          217.0     B   \n",
       "\n",
       "  age_class        BMI  \n",
       "0     early  25.344179  \n",
       "1     early  20.495868  \n",
       "2     early  24.181428  \n",
       "3     early  23.349562  \n",
       "4     early  22.412439  "
      ]
     },
     "execution_count": 139,
     "metadata": {},
     "output_type": "execute_result"
    }
   ],
   "source": [
    "# Create a new series in the dataframe and insert values based on the condition\n",
    "df.loc[df.age < 40, 'age_class'] = 'early'\n",
    "df.loc[(df.age >= 40) & (df.age <= 60), 'age_class'] = 'middle'\n",
    "df.loc[df.age > 60, 'age_class'] = 'late'\n",
    "df.head()"
   ]
  },
  {
   "cell_type": "code",
   "execution_count": 140,
   "metadata": {},
   "outputs": [
    {
     "name": "stdout",
     "output_type": "stream",
     "text": [
      "The mean number of sit-ups counts for early-aged people is 45.305217082692536.\n",
      "The mean number of sit-ups counts for middle-aged people is 31.815140845070424.\n",
      "The mean number of sit-ups counts for late-aged people is 24.060165975103736.\n"
     ]
    }
   ],
   "source": [
    "sit_e = df[df.age_class == 'early']['sit-ups counts'].mean()\n",
    "print('The mean number of sit-ups counts for early-aged people is ' + str(sit_e) + '.')\n",
    "sit_m = df[df.age_class == 'middle']['sit-ups counts'].mean()\n",
    "print('The mean number of sit-ups counts for middle-aged people is ' + str(sit_m) + '.')\n",
    "sit_l = df[df.age_class == 'late']['sit-ups counts'].mean()\n",
    "print('The mean number of sit-ups counts for late-aged people is ' + str(sit_l) + '.')"
   ]
  },
  {
   "cell_type": "markdown",
   "metadata": {
    "colab_type": "text",
    "id": "WlWYu2_5uY7K"
   },
   "source": [
    "**Answer.** The mean numbers of sit-ups counts for early, middle and late groups are printed above."
   ]
  },
  {
   "cell_type": "markdown",
   "metadata": {},
   "source": [
    "### <span style=\"color:magenta\">Q7: 10 pt: </span>\n",
    "Calculate each person's Body Mass Index (BMI).  With the metric system, the formula for BMI is weight in kilograms divided by height in meters squared. Since height is commonly measured in centimeters, an alternate calculation formula, dividing the weight in kilograms by the height in centimeters squared, and then multiplying the result by 10,000, can be used. (https://www.cdc.gov/nccdphp/dnpao/growthcharts/training/bmiage/page5_1.html)\n",
    "\n",
    "Create two histograms of BMI: one for gender F and one for gender M.  Describe similarites and differences of the two histograms."
   ]
  },
  {
   "cell_type": "code",
   "execution_count": 128,
   "metadata": {},
   "outputs": [
    {
     "data": {
      "text/plain": [
       "0        25.344179\n",
       "1        20.495868\n",
       "2        24.181428\n",
       "3        23.349562\n",
       "4        22.412439\n",
       "           ...    \n",
       "13388    24.241679\n",
       "13389    19.788128\n",
       "13390    25.637073\n",
       "13391    27.031826\n",
       "13392    24.576145\n",
       "Name: BMI, Length: 13393, dtype: float64"
      ]
     },
     "execution_count": 128,
     "metadata": {},
     "output_type": "execute_result"
    }
   ],
   "source": [
    "# Formula: [weight (kg) / height (cm) / height (cm)] x 10,000\n",
    "\n",
    "df['BMI'] = df.weight_kg / (df.height_cm)**2 * 10000\n",
    "df['BMI']"
   ]
  },
  {
   "cell_type": "code",
   "execution_count": 145,
   "metadata": {},
   "outputs": [
    {
     "data": {
      "text/plain": [
       "<AxesSubplot:title={'center':'BMI for gender F'}, ylabel='Frequency'>"
      ]
     },
     "execution_count": 145,
     "metadata": {},
     "output_type": "execute_result"
    },
    {
     "data": {
      "image/png": "[encoded data removed]",
      "text/plain": [
       "<Figure size 432x288 with 1 Axes>"
      ]
     },
     "metadata": {
      "needs_background": "light"
     },
     "output_type": "display_data"
    }
   ],
   "source": [
    "df[df.gender == 'F'].BMI.plot.hist(title = 'BMI for gender F')"
   ]
  },
  {
   "cell_type": "code",
   "execution_count": 144,
   "metadata": {},
   "outputs": [
    {
     "data": {
      "text/plain": [
       "<AxesSubplot:title={'center':'BMI for gender M'}, ylabel='Frequency'>"
      ]
     },
     "execution_count": 144,
     "metadata": {},
     "output_type": "execute_result"
    },
    {
     "data": {
      "image/png": "[encoded data removed]",
      "text/plain": [
       "<Figure size 432x288 with 1 Axes>"
      ]
     },
     "metadata": {
      "needs_background": "light"
     },
     "output_type": "display_data"
    }
   ],
   "source": [
    "df[df.gender == 'M'].BMI.plot.hist(title = 'BMI for gender M')"
   ]
  },
  {
   "cell_type": "markdown",
   "metadata": {
    "colab_type": "text",
    "id": "CCuxztg3uYPQ"
   },
   "source": [
    "**Answer.** The similarities and differences of the two histograms can be observed as follows:\n",
    "\n",
    "- Similarity: The range of BMI for both female and male participants are similar, both ranging from around 15 to 40.\n",
    "- Difference: There exists BMI value which is less than 15 for female participants, while no male participant's BMI is less than 15. Also, the mean BMI value for male is larger than that for female.\n"
   ]
  },
  {
   "cell_type": "markdown",
   "metadata": {
    "colab_type": "text",
    "id": "7n5ybXFQcR-g"
   },
   "source": [
    "### <span style=\"color:magenta\">Q8: 10 pt: </span>\n",
    "Compare the mean values of height, weight, body fat %, grip force, sit and bend forward, and sit-ups count for gender F vs. gender M.  You should use both quantitative and visual methods in your work.\n"
   ]
  },
  {
   "cell_type": "code",
   "execution_count": 204,
   "metadata": {
    "colab": {},
    "colab_type": "code",
    "id": "FoWTh2ekt8Wp"
   },
   "outputs": [
    {
     "data": {
      "text/html": [
       "<div>\n",
       "<style scoped>\n",
       "    .dataframe tbody tr th:only-of-type {\n",
       "        vertical-align: middle;\n",
       "    }\n",
       "\n",
       "    .dataframe tbody tr th {\n",
       "        vertical-align: top;\n",
       "    }\n",
       "\n",
       "    .dataframe thead th {\n",
       "        text-align: right;\n",
       "    }\n",
       "</style>\n",
       "<table border=\"1\" class=\"dataframe\">\n",
       "  <thead>\n",
       "    <tr style=\"text-align: right;\">\n",
       "      <th></th>\n",
       "      <th>Female</th>\n",
       "      <th>Male</th>\n",
       "    </tr>\n",
       "  </thead>\n",
       "  <tbody>\n",
       "    <tr>\n",
       "      <th>age</th>\n",
       "      <td>37.850995</td>\n",
       "      <td>36.149167</td>\n",
       "    </tr>\n",
       "    <tr>\n",
       "      <th>height_cm</th>\n",
       "      <td>160.485404</td>\n",
       "      <td>173.257399</td>\n",
       "    </tr>\n",
       "    <tr>\n",
       "      <th>weight_kg</th>\n",
       "      <td>56.905899</td>\n",
       "      <td>73.580187</td>\n",
       "    </tr>\n",
       "    <tr>\n",
       "      <th>body fat_%</th>\n",
       "      <td>28.486085</td>\n",
       "      <td>20.188151</td>\n",
       "    </tr>\n",
       "    <tr>\n",
       "      <th>diastolic</th>\n",
       "      <td>75.578197</td>\n",
       "      <td>80.669411</td>\n",
       "    </tr>\n",
       "    <tr>\n",
       "      <th>systolic</th>\n",
       "      <td>123.986399</td>\n",
       "      <td>133.870072</td>\n",
       "    </tr>\n",
       "    <tr>\n",
       "      <th>gripForce</th>\n",
       "      <td>25.817994</td>\n",
       "      <td>43.448420</td>\n",
       "    </tr>\n",
       "    <tr>\n",
       "      <th>sit and bend forward_cm</th>\n",
       "      <td>18.839791</td>\n",
       "      <td>13.097073</td>\n",
       "    </tr>\n",
       "    <tr>\n",
       "      <th>sit-ups counts</th>\n",
       "      <td>30.888348</td>\n",
       "      <td>44.939176</td>\n",
       "    </tr>\n",
       "    <tr>\n",
       "      <th>broad jump_cm</th>\n",
       "      <td>153.326025</td>\n",
       "      <td>211.541526</td>\n",
       "    </tr>\n",
       "    <tr>\n",
       "      <th>BMI</th>\n",
       "      <td>22.104225</td>\n",
       "      <td>24.479737</td>\n",
       "    </tr>\n",
       "  </tbody>\n",
       "</table>\n",
       "</div>"
      ],
      "text/plain": [
       "                             Female        Male\n",
       "age                       37.850995   36.149167\n",
       "height_cm                160.485404  173.257399\n",
       "weight_kg                 56.905899   73.580187\n",
       "body fat_%                28.486085   20.188151\n",
       "diastolic                 75.578197   80.669411\n",
       "systolic                 123.986399  133.870072\n",
       "gripForce                 25.817994   43.448420\n",
       "sit and bend forward_cm   18.839791   13.097073\n",
       "sit-ups counts            30.888348   44.939176\n",
       "broad jump_cm            153.326025  211.541526\n",
       "BMI                       22.104225   24.479737"
      ]
     },
     "execution_count": 204,
     "metadata": {},
     "output_type": "execute_result"
    }
   ],
   "source": [
    "# Build a new dataframe to contain all the mean values for female and male\n",
    "female = pd.Series(df[df.gender == 'F'].mean(numeric_only=True))\n",
    "male = pd.Series(df[df.gender == 'M'].mean(numeric_only=True))\n",
    "fm = pd.DataFrame({\"Female\":female,\"Male\":male}) # similar to zipping \n",
    "fm"
   ]
  },
  {
   "cell_type": "code",
   "execution_count": 232,
   "metadata": {},
   "outputs": [
    {
     "data": {
      "text/plain": [
       "<AxesSubplot:>"
      ]
     },
     "execution_count": 232,
     "metadata": {},
     "output_type": "execute_result"
    },
    {
     "data": {
      "image/png": "[encoded data removed]",
      "text/plain": [
       "<Figure size 432x288 with 1 Axes>"
      ]
     },
     "metadata": {
      "needs_background": "light"
     },
     "output_type": "display_data"
    },
    {
     "data": {
      "image/png": "[encoded data removed]",
      "text/plain": [
       "<Figure size 432x288 with 1 Axes>"
      ]
     },
     "metadata": {
      "needs_background": "light"
     },
     "output_type": "display_data"
    }
   ],
   "source": [
    "fm.plot(title = 'Average Values of Male and Female')\n",
    "fm.plot.bar()"
   ]
  },
  {
   "cell_type": "markdown",
   "metadata": {},
   "source": [
    "**Answer.** The dataframe and according plot of the average values of each property of male and female are listed and plotted above. From the results, there are several obseravtions:\n",
    "\n",
    "1. The average age of female and male participants are almost the same, around 36 / 37 years old.\n",
    "1. Male participants are generally higher and weigh more than female participants.\n",
    "1. Female participants' average body fat percentage is higher than that of male participants.\n",
    "1. Male participants tend to have higher diastolic and systolic pressure than female participants.\n",
    "1. Male participants have higher grip force than female participants.\n",
    "1. Female partipants tend to perform better in sitting and bending forward while male participants can do more sit-ups and jump broader than male participants.\n",
    "1. The BMI of male participants is slightly higher than female participants."
   ]
  },
  {
   "cell_type": "markdown",
   "metadata": {
    "colab_type": "text",
    "id": "wGoiQk8XbqHw"
   },
   "source": [
    "### <span style=\"color:magenta\">Q9: 15 pt: </span>\n",
    "Take a look at gripForce (a measure of strength), \"sit and bend forward\" (a measure of flexibility), and \"sit-ups count\" (a measures of strength and endurance of the abdominals and hip-flexor muscles).  For each of those measures, calculate their z-scores (i.e. subtract the mean of the variable from each observation, then divide by the standard deviation of that score).  Create an overall fitness score by adding the z-scores for each of those variables together, then use `pd.qcut()` (not `pd.cut()`) to assign them to five categories ranging from lowest score to highest score.  Report the number of individuals in each of the resulting categories."
   ]
  },
  {
   "cell_type": "code",
   "execution_count": 225,
   "metadata": {
    "colab": {},
    "colab_type": "code",
    "id": "FoWTh2ekt8Wp"
   },
   "outputs": [
    {
     "data": {
      "text/plain": [
       "(-8.549999999999999, -1.738]    2679\n",
       "(-1.738, -0.388]                2678\n",
       "(-0.388, 0.642]                 2679\n",
       "(0.642, 1.773]                  2678\n",
       "(1.773, 24.469]                 2679\n",
       "Name: z_score, dtype: int64"
      ]
     },
     "execution_count": 225,
     "metadata": {},
     "output_type": "execute_result"
    }
   ],
   "source": [
    "# Calculate z-scores for each measure\n",
    "zg = (df['gripForce'] - df['gripForce'].mean()) / df['gripForce'].std()\n",
    "zsb = (df['sit and bend forward_cm'] - df['sit and bend forward_cm'].mean()) / df['sit and bend forward_cm'].std()\n",
    "zsu = (df['sit-ups counts'] - df['sit-ups counts'].mean()) / df['sit-ups counts'].std()\n",
    "\n",
    "# Sum all z-scores together and assign them to five categories\n",
    "z = zg + zsb + zsu\n",
    "df['z_score'] = z\n",
    "pd.qcut(df['z_score'], 5).value_counts().sort_index()"
   ]
  },
  {
   "cell_type": "markdown",
   "metadata": {},
   "source": [
    "**Answer.** There are 2679 people having the lowest z-score. There are 2678 people having the second lowest z-score. 2679 people have medium z-score. 2678 people have the second highest z-score and 2679 people having the highest z-score."
   ]
  },
  {
   "cell_type": "markdown",
   "metadata": {
    "colab_type": "text",
    "id": "zKkwrNfbJ9zN"
   },
   "source": [
    "## Please submit your completed notebook in .IPYNB and .HTML formats via Canvas"
   ]
  }
 ],
 "metadata": {
  "colab": {
   "collapsed_sections": [],
   "name": "SI 618 FA 2018 Homework 1.ipynb",
   "provenance": [],
   "version": "0.3.2"
  },
  "kernelspec": {
   "display_name": "Python 3 (ipykernel)",
   "language": "python",
   "name": "python3"
  },
  "language_info": {
   "codemirror_mode": {
    "name": "ipython",
    "version": 3
   },
   "file_extension": ".py",
   "mimetype": "text/x-python",
   "name": "python",
   "nbconvert_exporter": "python",
   "pygments_lexer": "ipython3",
   "version": "3.8.12"
  }
 },
 "nbformat": 4,
 "nbformat_minor": 4
}
