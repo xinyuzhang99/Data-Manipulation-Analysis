{
 "cells": [
  {
   "cell_type": "markdown",
   "metadata": {
    "colab_type": "text",
    "id": "UGqk3SzXsMR3",
    "tags": []
   },
   "source": [
    "# SI 618 - Homework #3: Data Visualization\n",
    "\n",
    "Version 2022.01.30.1.CT"
   ]
  },
  {
   "cell_type": "markdown",
   "metadata": {
    "colab_type": "text",
    "id": "UiAKCrOR2gYt"
   },
   "source": [
    "## Background"
   ]
  },
  {
   "cell_type": "markdown",
   "metadata": {
    "colab_type": "text",
    "id": "5_xhHLHr2gYu"
   },
   "source": [
    "This homework assignment focuses on the visual analysis of the COVID-19 data avaiable here: https://covid19datahub.io/articles/api/python.html. A description of the dataset can be found at https://covid19datahub.io/articles/doc/data.html\n",
    "\n",
    "Your main task in this assignment is to explore the data *using the data manipulation, analysis, and visualization methods we covered in class* as well as those in the assigned readings.  You may need to consult pandas, matplotlib and seaborn documentation, as well as Stack Overflow, or other online resources.  "
   ]
  },
  {
   "cell_type": "markdown",
   "metadata": {
    "colab_type": "text",
    "id": "d5D_nveM2gYv"
   },
   "source": [
    "## Total Points and Rubric\n",
    "\n",
    "Each question is worth the same number of points.  Points will be allocated according to the following rubric:\n",
    "\n",
    "- 90-100%: Question is correctly and completely answered.  Answer consists of well-written code that conforms to [PEP 8](https://www.python.org/dev/peps/pep-0008/) guidelines and is \n",
    "accompanied by a written interpretation in a Markdown block.  Written interpretation does not contain spelling, grammar or stylistic errors (see https://faculty.washington.edu/heagerty/Courses/b572/public/StrunkWhite.pdf for a detailed specifications).  Minor problems, such as formatting, incorrect submissions, missing names, etc. will result in less than 100%.\n",
    "- 75-85% : Answer is mostly complete and correct; two or fewer noticeable omissions or errors.  Minor stylistic flaws, either in code or in \n",
    "written interpretation.\n",
    "- 50-70%: Answer has significant omissions or errors; Noticeable departure from PEP-8 guildelines and/or moderate spelling, grammar, or style issues\n",
    "in written interpretations.\n",
    "- 25-45%: Question is perfunctorily attempted.  Substantial parts are missing or incorrect.\n",
    "- 0 points: Question not attempted."
   ]
  },
  {
   "cell_type": "markdown",
   "metadata": {
    "colab_type": "text",
    "id": "mZBwJn1J2gYv",
    "tags": []
   },
   "source": [
    "## Getting the data\n",
    "\n",
    "\n",
    "The following cell should install the most up-to-date version of the \n",
    "COVID-19 datahub.  Alternatively, you can consult the datahub documentation to download the data files directly."
   ]
  },
  {
   "cell_type": "code",
   "execution_count": 6,
   "metadata": {
    "colab": {
     "base_uri": "https://localhost:8080/",
     "height": 272
    },
    "colab_type": "code",
    "id": "evStchCv2gYw",
    "outputId": "db9bb133-58be-481a-f12e-5077489bb275"
   },
   "outputs": [
    {
     "name": "stdout",
     "output_type": "stream",
     "text": [
      "Requirement already satisfied: covid19dh in /opt/anaconda3/lib/python3.8/site-packages (2.3.0)\n",
      "Requirement already satisfied: pandas in /opt/anaconda3/lib/python3.8/site-packages (from covid19dh) (1.4.0)\n",
      "Requirement already satisfied: requests in /opt/anaconda3/lib/python3.8/site-packages (from covid19dh) (2.25.1)\n",
      "Requirement already satisfied: numpy>=1.18.5 in /opt/anaconda3/lib/python3.8/site-packages (from pandas->covid19dh) (1.20.1)\n",
      "Requirement already satisfied: pytz>=2020.1 in /opt/anaconda3/lib/python3.8/site-packages (from pandas->covid19dh) (2021.1)\n",
      "Requirement already satisfied: python-dateutil>=2.8.1 in /opt/anaconda3/lib/python3.8/site-packages (from pandas->covid19dh) (2.8.1)\n",
      "Requirement already satisfied: chardet<5,>=3.0.2 in /opt/anaconda3/lib/python3.8/site-packages (from requests->covid19dh) (4.0.0)\n",
      "Requirement already satisfied: urllib3<1.27,>=1.21.1 in /opt/anaconda3/lib/python3.8/site-packages (from requests->covid19dh) (1.26.4)\n",
      "Requirement already satisfied: certifi>=2017.4.17 in /opt/anaconda3/lib/python3.8/site-packages (from requests->covid19dh) (2020.12.5)\n",
      "Requirement already satisfied: idna<3,>=2.5 in /opt/anaconda3/lib/python3.8/site-packages (from requests->covid19dh) (2.10)\n",
      "Requirement already satisfied: six>=1.5 in /opt/anaconda3/lib/python3.8/site-packages (from python-dateutil>=2.8.1->pandas->covid19dh) (1.15.0)\n",
      "Note: you may need to restart the kernel to use updated packages.\n"
     ]
    }
   ],
   "source": [
    "pip install --upgrade covid19dh"
   ]
  },
  {
   "cell_type": "markdown",
   "metadata": {
    "colab_type": "text",
    "id": "NYWBjZGA2gY0"
   },
   "source": [
    "### Restart the kernel to import the module and access the data"
   ]
  },
  {
   "cell_type": "code",
   "execution_count": 10,
   "metadata": {
    "colab": {},
    "colab_type": "code",
    "id": "wDXh1Odt2gY1"
   },
   "outputs": [],
   "source": [
    "from covid19dh import covid19"
   ]
  },
  {
   "cell_type": "markdown",
   "metadata": {
    "colab_type": "text",
    "id": "8EV1PilWtl0Z"
   },
   "source": [
    "## Answer the questions below. \n",
    "For each question, you should\n",
    "1. Write code that can help you answer the following questions, and\n",
    "2. Explain your answers in plain English. You should use complete sentences that would be understood by an educated professional who is not necessarily a data scientist (like a product manager)."
   ]
  },
  {
   "cell_type": "code",
   "execution_count": 11,
   "metadata": {
    "colab": {
     "base_uri": "https://localhost:8080/",
     "height": 70
    },
    "colab_type": "code",
    "id": "vjY0Nbka2gY4",
    "outputId": "d208de70-5f05-4b13-8ed2-cce106469c84"
   },
   "outputs": [],
   "source": [
    "# Load all the modules\n",
    "import pandas as pd\n",
    "import numpy as np\n",
    "import matplotlib.pyplot as plt\n",
    "import seaborn as sns\n",
    "%matplotlib inline "
   ]
  },
  {
   "cell_type": "code",
   "execution_count": 12,
   "metadata": {},
   "outputs": [],
   "source": [
    "import warnings\n",
    "warnings.filterwarnings(\"ignore\")"
   ]
  },
  {
   "cell_type": "markdown",
   "metadata": {
    "colab_type": "text",
    "id": "PfjXDtHoabcS"
   },
   "source": [
    "### <font color='#8B0000'> Q1 How many different countries are represented in the country-level data set?</font>\n",
    "- Refer to the documentation to call the covid19() function with appropriate parameters (https://covid19datahub.io/articles/api/python.html)"
   ]
  },
  {
   "cell_type": "code",
   "execution_count": 5,
   "metadata": {
    "colab": {},
    "colab_type": "code",
    "id": "ttHwVC8ot5Ur"
   },
   "outputs": [],
   "source": [
    "x_country, src_country = covid19(level = 1, verbose = False)"
   ]
  },
  {
   "cell_type": "code",
   "execution_count": 295,
   "metadata": {},
   "outputs": [
    {
     "data": {
      "text/plain": [
       "array(['Saint Lucia', 'Guatemala', 'Guyana', 'Italy', 'Belize',\n",
       "       'Isle of Man', 'Wallis and Futuna', 'Belarus', 'Solomon Islands',\n",
       "       'Libya', 'Gambia', 'Haiti', 'Oman', 'San Marino', 'Uzbekistan',\n",
       "       'Cameroon', 'Turks and Caicos Islands', 'El Salvador', 'Ecuador',\n",
       "       'Albania', 'Nicaragua', 'Singapore', 'Martinique', 'Guam',\n",
       "       'Bahamas', 'Myanmar', 'Nepal', 'Bangladesh', 'Zambia', 'Lithuania',\n",
       "       'Guinea-Bissau', 'Malawi', 'Greenland', 'Belgium', 'Syria',\n",
       "       'Tajikistan', 'Botswana', 'Hong Kong', 'Mozambique', 'Estonia',\n",
       "       'Norway', 'Ireland', 'Portugal', 'Jordan', 'South Sudan', 'Kosovo',\n",
       "       'Korea, South', 'Tonga', 'Spain', 'Grenada', 'Zimbabwe', 'Iceland',\n",
       "       'Mexico', 'Latvia', 'Rwanda', 'Namibia', 'French Polynesia',\n",
       "       'Sweden', 'Saudi Arabia', 'Mauritania', 'Jamaica', 'Jersey',\n",
       "       'Germany', 'Malaysia', 'Yemen', 'Kuwait', 'Cook Islands', 'Iraq',\n",
       "       'Puerto Rico', 'Papua New Guinea', 'Seychelles', 'Nauru',\n",
       "       'American Samoa', 'Qatar', 'Burundi', 'Moldova', 'Congo',\n",
       "       'Micronesia', 'Holy See', 'Armenia', 'Eritrea', 'Samoa', 'Uruguay',\n",
       "       'Paraguay', 'Costa Rica', 'Palestine', 'United States', 'Brazil',\n",
       "       'Réunion', 'Denmark', 'United Arab Emirates', 'Mongolia', 'France',\n",
       "       'Ukraine', 'Vanuatu', 'Chad',\n",
       "       'Saint Helena, Ascension and Tristan da Cunha', 'Timor-Leste',\n",
       "       'Guinea', 'Palau', 'Finland', 'Nigeria',\n",
       "       'Falkland Islands (Malvinas)', 'Bahrain', 'Gibraltar',\n",
       "       'Virgin Islands, U.S.', \"Cote d'Ivoire\", 'Ethiopia', 'Uganda',\n",
       "       'Burkina Faso', 'Egypt', 'Luxembourg', 'China',\n",
       "       'Sao Tome and Principe', 'Austria', 'Kiribati', 'Guernsey',\n",
       "       'Saint Vincent and the Grenadines', 'New Caledonia',\n",
       "       'Diamond Princess', 'Grand Princess', 'Pitcairn', 'Mali',\n",
       "       'Philippines', 'Lebanon', 'Bosnia and Herzegovina', 'Tanzania',\n",
       "       'Turkey', 'Angola', 'Hungary', 'Tuvalu', 'French Guiana',\n",
       "       'Bermuda', 'Cuba', 'Suriname', 'Dominica', 'United Kingdom',\n",
       "       'Togo', 'Azerbaijan', 'Algeria', 'Chile', 'Sierra Leone',\n",
       "       'Czech Republic', 'Marshall Islands', 'Afghanistan', 'Liberia',\n",
       "       'Tunisia', 'Bhutan', 'Romania', 'Tokelau', 'Equatorial Guinea',\n",
       "       'Madagascar', 'Central African Republic', 'Gabon', 'Canada',\n",
       "       'Dominican Republic', 'Taiwan', 'Vietnam', 'Lesotho', 'Comoros',\n",
       "       'Bonaire, Sint Eustatius and Saba', 'Saint Kitts and Nevis',\n",
       "       'Slovenia', 'Greece', 'Cayman Islands', 'Somalia', 'Argentina',\n",
       "       'Swaziland', 'Montenegro', 'South Africa', 'Panama',\n",
       "       'Sint Maarten', 'Morocco', 'Faroe Islands', 'North Macedonia',\n",
       "       'Georgia', 'Kazakhstan', 'Slovakia', 'Barbados', 'Honduras',\n",
       "       'Kenya', 'India', 'Iran', 'Pakistan', 'Peru', 'Poland', 'Sudan',\n",
       "       'Israel', 'Sri Lanka', 'Brunei', 'Benin', 'Andorra', 'Maldives',\n",
       "       'Montserrat', 'Senegal', 'Cyprus', 'Djibouti', 'Niger', 'Fiji',\n",
       "       'Turkmenistan', 'Laos', 'Congo, the Democratic Republic of the',\n",
       "       'Croatia', 'Venezuela', 'Costa Atlantica', 'Bolivia', 'Indonesia',\n",
       "       'Colombia', 'Mayotte', 'Serbia', 'Macao',\n",
       "       'Northern Mariana Islands', 'Guadeloupe', 'Niue', 'Curacao',\n",
       "       'Antigua and Barbuda', 'Aruba', 'New Zealand', 'Monaco',\n",
       "       'Australia', 'Cape Verde', 'Bulgaria', 'Malta', 'Kyrgyzstan',\n",
       "       'Virgin Islands, British', 'Mauritius', 'Ghana', 'Switzerland',\n",
       "       'Cambodia', 'Trinidad and Tobago', 'Thailand', 'Anguilla',\n",
       "       'Netherlands', 'Japan', 'Russia', 'Liechtenstein'], dtype=object)"
      ]
     },
     "execution_count": 295,
     "metadata": {},
     "output_type": "execute_result"
    }
   ],
   "source": [
    "country = x_country.administrative_area_level_1.unique()\n",
    "country"
   ]
  },
  {
   "cell_type": "code",
   "execution_count": 290,
   "metadata": {},
   "outputs": [
    {
     "name": "stdout",
     "output_type": "stream",
     "text": [
      "Number of different countries: 236\n"
     ]
    }
   ],
   "source": [
    "print(\"Number of different countries: \" + str(len(country)))"
   ]
  },
  {
   "cell_type": "code",
   "execution_count": 291,
   "metadata": {},
   "outputs": [
    {
     "name": "stdout",
     "output_type": "stream",
     "text": [
      "Number of all countries in the world: 249\n",
      "Portion: 0.9477911646586346\n"
     ]
    }
   ],
   "source": [
    "import pycountry\n",
    "world = pycountry.countries\n",
    "print(\"Number of all countries in the world: \" + str(len(world)))\n",
    "print(\"Portion: \" + str(len(country) / len(world)))"
   ]
  },
  {
   "cell_type": "markdown",
   "metadata": {
    "colab_type": "text",
    "id": "g1RAXO76uN-A"
   },
   "source": [
    "**Answer.** \n",
    "1. There are 236 countries in total which are represented in the country-level dataset according to the definition of the dataset.\n",
    "1. Using the package `pycountry`, it can be calculated that the number of countries in this dataset takes around 95\\% of the number of all countries in the world. However, this result may be not accurate as there are some values listed are regions instead of countries, like Hong Kong and Macao."
   ]
  },
  {
   "cell_type": "markdown",
   "metadata": {
    "colab_type": "text",
    "id": "tbmL9-kta0o4"
   },
   "source": [
    "### <font color='#8B0000'> Q2 Create a line chart that shows the total number of cases over time.</font>"
   ]
  },
  {
   "cell_type": "code",
   "execution_count": 34,
   "metadata": {
    "colab": {},
    "colab_type": "code",
    "id": "33LcHThyt5_N"
   },
   "outputs": [],
   "source": [
    "x_today, src_today = covid19(verbose = False)"
   ]
  },
  {
   "cell_type": "code",
   "execution_count": 35,
   "metadata": {},
   "outputs": [
    {
     "data": {
      "text/plain": [
       "<AxesSubplot:title={'center':'Total number of cases over time'}, xlabel='Date', ylabel='Number of confirmed cases'>"
      ]
     },
     "execution_count": 35,
     "metadata": {},
     "output_type": "execute_result"
    },
    {
     "data": {
      "image/png": "[encoded data removed]",
      "text/plain": [
       "<Figure size 432x288 with 1 Axes>"
      ]
     },
     "metadata": {
      "needs_background": "light"
     },
     "output_type": "display_data"
    }
   ],
   "source": [
    "x_today.groupby('date').max().confirmed.plot(title='Total number of cases over time', xlabel='Date', ylabel='Number of confirmed cases')"
   ]
  },
  {
   "cell_type": "markdown",
   "metadata": {
    "colab_type": "text",
    "id": "FD6-7-D-uWmX"
   },
   "source": [
    "**Answer.** \n",
    "1. From the line chart, it can be seen that COVID-19 confirmed cases began to happen in January, 2020 and continues to show an increasing trend as time goes by.\n",
    "1. In the first 6 months, the growth of the confirmed cases is slow. Though there are some small flucturations during 2021, the number of cases generally rapidly increases till now.\n"
   ]
  },
  {
   "cell_type": "markdown",
   "metadata": {
    "colab_type": "text",
    "id": "0u5VM5ksbCTm"
   },
   "source": [
    "### <font color='#8B0000'>Q3 Use the country-level data set to create a histogram to:</font>\n",
    "- Show the distribution of values for the number of hospitalizations per 1000 people.  \n",
    "- Draw a red vertical line that shows the median value on the histogram."
   ]
  },
  {
   "cell_type": "code",
   "execution_count": 6,
   "metadata": {},
   "outputs": [
    {
     "data": {
      "text/plain": [
       "38908    127.0\n",
       "38909    150.0\n",
       "38910    164.0\n",
       "38911    304.0\n",
       "38912    409.0\n",
       "Name: hosp, dtype: float64"
      ]
     },
     "execution_count": 6,
     "metadata": {},
     "output_type": "execute_result"
    }
   ],
   "source": [
    "# Drop the null values in the set\n",
    "# Groupby countries\n",
    "x_country_dropna = x_country.dropna(subset=['hosp'])\n",
    "x_country_dropna.hosp.head()"
   ]
  },
  {
   "cell_type": "code",
   "execution_count": 7,
   "metadata": {},
   "outputs": [
    {
     "data": {
      "text/plain": [
       "Text(0.5, 0.98, 'Number of hospitalizations per 1000 people')"
      ]
     },
     "execution_count": 7,
     "metadata": {},
     "output_type": "execute_result"
    },
    {
     "data": {
      "image/png": "[encoded data removed]",
      "text/plain": [
       "<Figure size 864x360 with 2 Axes>"
      ]
     },
     "metadata": {
      "needs_background": "light"
     },
     "output_type": "display_data"
    }
   ],
   "source": [
    "hospitalization = (x_country_dropna.groupby('administrative_area_level_1').sum().hosp.unique() / x_country_dropna.groupby('administrative_area_level_1').sum().population * 1000)\n",
    "f, (ax1, ax2) = plt.subplots(1, 2, figsize=(12,5))\n",
    "ax1.hist(hospitalization)\n",
    "ax1.axvline(x = hospitalization.median(), c = 'red')\n",
    "ax1.set_xlabel('Hospitalization')\n",
    "ax1.set_ylabel('Frequency')\n",
    "ax2.hist(hospitalization, range=[0, 0.6])\n",
    "ax2.axvline(x = hospitalization.median(), c = 'red')\n",
    "ax2.set_title('Range: [0, 0.6]')\n",
    "ax2.set_xlabel('Hospitalization')\n",
    "ax2.set_ylabel('Frequency')\n",
    "f.suptitle('Number of hospitalizations per 1000 people')"
   ]
  },
  {
   "cell_type": "markdown",
   "metadata": {
    "colab_type": "text",
    "id": "CCuxztg3uYPQ"
   },
   "source": [
    "**Answer.**\n",
    "1. From the left plot where the result is shown among the total range, it's clear that there exists outliers. Therefore, another plot in the right is plotted which focuses more on the main portion of hospitalizations per 1000 people.\n",
    "1. Most countries have an hospitalization from 0 to 0.3 and the median value is around 0.15."
   ]
  },
  {
   "cell_type": "markdown",
   "metadata": {
    "colab_type": "text",
    "id": "2wH5ikUcbb16"
   },
   "source": [
    "### <font color='#8B0000'> Q4 Create a visualization that shows the  number of tests per day in the United States and indicate the median value on your visualization.</font>"
   ]
  },
  {
   "cell_type": "code",
   "execution_count": 28,
   "metadata": {
    "colab": {},
    "colab_type": "code",
    "id": "EFwU7diL2gZI"
   },
   "outputs": [],
   "source": [
    "# Filter out data in the united states and then show 'tests' per day\n",
    "usa, usa_src = covid19(\"USA\", verbose = False)"
   ]
  },
  {
   "cell_type": "code",
   "execution_count": 31,
   "metadata": {},
   "outputs": [
    {
     "data": {
      "text/plain": [
       "date\n",
       "2022-02-01    787820796.0\n",
       "2022-01-31    786473579.0\n",
       "2022-01-30    785405394.0\n",
       "2022-01-29    784716090.0\n",
       "2022-01-28    783594943.0\n",
       "                 ...     \n",
       "2022-02-03            NaN\n",
       "2022-02-04            NaN\n",
       "2022-02-05            NaN\n",
       "2022-02-06            NaN\n",
       "2022-02-07            NaN\n",
       "Name: tests, Length: 749, dtype: float64"
      ]
     },
     "execution_count": 31,
     "metadata": {},
     "output_type": "execute_result"
    }
   ],
   "source": [
    "usa_test = usa.groupby('date').tests.max().sort_values(ascending = False)\n",
    "usa_test"
   ]
  },
  {
   "cell_type": "code",
   "execution_count": 32,
   "metadata": {},
   "outputs": [
    {
     "data": {
      "text/plain": [
       "<matplotlib.lines.Line2D at 0x7f8ffc1dd910>"
      ]
     },
     "execution_count": 32,
     "metadata": {},
     "output_type": "execute_result"
    },
    {
     "data": {
      "image/png": "[encoded data removed]",
      "text/plain": [
       "<Figure size 432x288 with 1 Axes>"
      ]
     },
     "metadata": {
      "needs_background": "light"
     },
     "output_type": "display_data"
    }
   ],
   "source": [
    "fig,ax = plt.subplots(1)\n",
    "ax.plot(usa.date, usa.tests, linewidth=6)\n",
    "ax.set_xlabel('Date')\n",
    "ax.set_ylabel('Number of tests')\n",
    "ax.set_title('The number of tests per day in the US')\n",
    "ax.axhline(usa.tests.median(), c='r')"
   ]
  },
  {
   "cell_type": "markdown",
   "metadata": {
    "colab_type": "text",
    "id": "WlWYu2_5uY7K"
   },
   "source": [
    "**Answer.**\n",
    "1. The number of tests per day in the United States is plotted above. It is clear in the graph that the daily test number shows an increasing trend from 2020 till now.\n",
    "1. The median value is shown as the red line in the plot. The number of tests per day continues to grow above the median value."
   ]
  },
  {
   "cell_type": "markdown",
   "metadata": {
    "colab_type": "text",
    "id": "CVnHVSV12gZL"
   },
   "source": [
    "## For questions below:\n",
    "- You will have to call the covid19() function again **with parameters specific to Canada**. \n",
    "- Set the parameter <code>level = 2</code> in the call to covid19()."
   ]
  },
  {
   "cell_type": "code",
   "execution_count": 13,
   "metadata": {},
   "outputs": [],
   "source": [
    "canada,src = covid19(\"CAN\",level = 2, verbose = False)"
   ]
  },
  {
   "cell_type": "code",
   "execution_count": 165,
   "metadata": {},
   "outputs": [
    {
     "data": {
      "text/html": [
       "<div>\n",
       "<style scoped>\n",
       "    .dataframe tbody tr th:only-of-type {\n",
       "        vertical-align: middle;\n",
       "    }\n",
       "\n",
       "    .dataframe tbody tr th {\n",
       "        vertical-align: top;\n",
       "    }\n",
       "\n",
       "    .dataframe thead th {\n",
       "        text-align: right;\n",
       "    }\n",
       "</style>\n",
       "<table border=\"1\" class=\"dataframe\">\n",
       "  <thead>\n",
       "    <tr style=\"text-align: right;\">\n",
       "      <th></th>\n",
       "      <th>id</th>\n",
       "      <th>date</th>\n",
       "      <th>confirmed</th>\n",
       "      <th>deaths</th>\n",
       "      <th>recovered</th>\n",
       "      <th>tests</th>\n",
       "      <th>vaccines</th>\n",
       "      <th>people_vaccinated</th>\n",
       "      <th>people_fully_vaccinated</th>\n",
       "      <th>hosp</th>\n",
       "      <th>...</th>\n",
       "      <th>iso_alpha_3</th>\n",
       "      <th>iso_alpha_2</th>\n",
       "      <th>iso_numeric</th>\n",
       "      <th>iso_currency</th>\n",
       "      <th>key_local</th>\n",
       "      <th>key_google_mobility</th>\n",
       "      <th>key_apple_mobility</th>\n",
       "      <th>key_jhu_csse</th>\n",
       "      <th>key_nuts</th>\n",
       "      <th>key_gadm</th>\n",
       "    </tr>\n",
       "  </thead>\n",
       "  <tbody>\n",
       "    <tr>\n",
       "      <th>495065</th>\n",
       "      <td>eef40c88</td>\n",
       "      <td>2022-01-31</td>\n",
       "      <td>5865.0</td>\n",
       "      <td>15.0</td>\n",
       "      <td>4948.0</td>\n",
       "      <td>39692.0</td>\n",
       "      <td>95869.0</td>\n",
       "      <td>NaN</td>\n",
       "      <td>NaN</td>\n",
       "      <td>NaN</td>\n",
       "      <td>...</td>\n",
       "      <td>CAN</td>\n",
       "      <td>CA</td>\n",
       "      <td>124.0</td>\n",
       "      <td>CAD</td>\n",
       "      <td>61</td>\n",
       "      <td>ChIJDcHTs_Q4EVERjVnGRNguMhk</td>\n",
       "      <td>Northwest Territories</td>\n",
       "      <td>CANT</td>\n",
       "      <td>NaN</td>\n",
       "      <td>CAN.6_1</td>\n",
       "    </tr>\n",
       "    <tr>\n",
       "      <th>495066</th>\n",
       "      <td>eef40c88</td>\n",
       "      <td>2022-02-01</td>\n",
       "      <td>6073.0</td>\n",
       "      <td>15.0</td>\n",
       "      <td>5117.0</td>\n",
       "      <td>39708.0</td>\n",
       "      <td>96926.0</td>\n",
       "      <td>NaN</td>\n",
       "      <td>NaN</td>\n",
       "      <td>NaN</td>\n",
       "      <td>...</td>\n",
       "      <td>CAN</td>\n",
       "      <td>CA</td>\n",
       "      <td>124.0</td>\n",
       "      <td>CAD</td>\n",
       "      <td>61</td>\n",
       "      <td>ChIJDcHTs_Q4EVERjVnGRNguMhk</td>\n",
       "      <td>Northwest Territories</td>\n",
       "      <td>CANT</td>\n",
       "      <td>NaN</td>\n",
       "      <td>CAN.6_1</td>\n",
       "    </tr>\n",
       "    <tr>\n",
       "      <th>495067</th>\n",
       "      <td>eef40c88</td>\n",
       "      <td>2022-02-02</td>\n",
       "      <td>6221.0</td>\n",
       "      <td>15.0</td>\n",
       "      <td>5261.0</td>\n",
       "      <td>39732.0</td>\n",
       "      <td>96926.0</td>\n",
       "      <td>NaN</td>\n",
       "      <td>NaN</td>\n",
       "      <td>NaN</td>\n",
       "      <td>...</td>\n",
       "      <td>CAN</td>\n",
       "      <td>CA</td>\n",
       "      <td>124.0</td>\n",
       "      <td>CAD</td>\n",
       "      <td>61</td>\n",
       "      <td>ChIJDcHTs_Q4EVERjVnGRNguMhk</td>\n",
       "      <td>Northwest Territories</td>\n",
       "      <td>CANT</td>\n",
       "      <td>NaN</td>\n",
       "      <td>CAN.6_1</td>\n",
       "    </tr>\n",
       "    <tr>\n",
       "      <th>495068</th>\n",
       "      <td>eef40c88</td>\n",
       "      <td>2022-02-03</td>\n",
       "      <td>6363.0</td>\n",
       "      <td>17.0</td>\n",
       "      <td>5379.0</td>\n",
       "      <td>39782.0</td>\n",
       "      <td>96926.0</td>\n",
       "      <td>NaN</td>\n",
       "      <td>NaN</td>\n",
       "      <td>NaN</td>\n",
       "      <td>...</td>\n",
       "      <td>CAN</td>\n",
       "      <td>CA</td>\n",
       "      <td>124.0</td>\n",
       "      <td>CAD</td>\n",
       "      <td>61</td>\n",
       "      <td>ChIJDcHTs_Q4EVERjVnGRNguMhk</td>\n",
       "      <td>Northwest Territories</td>\n",
       "      <td>CANT</td>\n",
       "      <td>NaN</td>\n",
       "      <td>CAN.6_1</td>\n",
       "    </tr>\n",
       "    <tr>\n",
       "      <th>495069</th>\n",
       "      <td>eef40c88</td>\n",
       "      <td>2022-02-04</td>\n",
       "      <td>NaN</td>\n",
       "      <td>NaN</td>\n",
       "      <td>NaN</td>\n",
       "      <td>NaN</td>\n",
       "      <td>96926.0</td>\n",
       "      <td>NaN</td>\n",
       "      <td>NaN</td>\n",
       "      <td>NaN</td>\n",
       "      <td>...</td>\n",
       "      <td>CAN</td>\n",
       "      <td>CA</td>\n",
       "      <td>124.0</td>\n",
       "      <td>CAD</td>\n",
       "      <td>61</td>\n",
       "      <td>ChIJDcHTs_Q4EVERjVnGRNguMhk</td>\n",
       "      <td>Northwest Territories</td>\n",
       "      <td>CANT</td>\n",
       "      <td>NaN</td>\n",
       "      <td>CAN.6_1</td>\n",
       "    </tr>\n",
       "  </tbody>\n",
       "</table>\n",
       "<p>5 rows × 47 columns</p>\n",
       "</div>"
      ],
      "text/plain": [
       "              id       date  confirmed  deaths  recovered    tests  vaccines  \\\n",
       "495065  eef40c88 2022-01-31     5865.0    15.0     4948.0  39692.0   95869.0   \n",
       "495066  eef40c88 2022-02-01     6073.0    15.0     5117.0  39708.0   96926.0   \n",
       "495067  eef40c88 2022-02-02     6221.0    15.0     5261.0  39732.0   96926.0   \n",
       "495068  eef40c88 2022-02-03     6363.0    17.0     5379.0  39782.0   96926.0   \n",
       "495069  eef40c88 2022-02-04        NaN     NaN        NaN      NaN   96926.0   \n",
       "\n",
       "        people_vaccinated  people_fully_vaccinated  hosp  ...  iso_alpha_3  \\\n",
       "495065                NaN                      NaN   NaN  ...          CAN   \n",
       "495066                NaN                      NaN   NaN  ...          CAN   \n",
       "495067                NaN                      NaN   NaN  ...          CAN   \n",
       "495068                NaN                      NaN   NaN  ...          CAN   \n",
       "495069                NaN                      NaN   NaN  ...          CAN   \n",
       "\n",
       "        iso_alpha_2  iso_numeric  iso_currency  key_local  \\\n",
       "495065           CA        124.0           CAD         61   \n",
       "495066           CA        124.0           CAD         61   \n",
       "495067           CA        124.0           CAD         61   \n",
       "495068           CA        124.0           CAD         61   \n",
       "495069           CA        124.0           CAD         61   \n",
       "\n",
       "                key_google_mobility     key_apple_mobility  key_jhu_csse  \\\n",
       "495065  ChIJDcHTs_Q4EVERjVnGRNguMhk  Northwest Territories          CANT   \n",
       "495066  ChIJDcHTs_Q4EVERjVnGRNguMhk  Northwest Territories          CANT   \n",
       "495067  ChIJDcHTs_Q4EVERjVnGRNguMhk  Northwest Territories          CANT   \n",
       "495068  ChIJDcHTs_Q4EVERjVnGRNguMhk  Northwest Territories          CANT   \n",
       "495069  ChIJDcHTs_Q4EVERjVnGRNguMhk  Northwest Territories          CANT   \n",
       "\n",
       "        key_nuts  key_gadm  \n",
       "495065       NaN   CAN.6_1  \n",
       "495066       NaN   CAN.6_1  \n",
       "495067       NaN   CAN.6_1  \n",
       "495068       NaN   CAN.6_1  \n",
       "495069       NaN   CAN.6_1  \n",
       "\n",
       "[5 rows x 47 columns]"
      ]
     },
     "execution_count": 165,
     "metadata": {},
     "output_type": "execute_result"
    }
   ],
   "source": [
    "canada.tail()"
   ]
  },
  {
   "cell_type": "markdown",
   "metadata": {
    "colab_type": "text",
    "id": "ggXQN25h2gZM"
   },
   "source": [
    "### <font color='#8B0000'> Q5 Create a bar plot to show the number of tests conducted in each province.  </font>\n",
    "Order the provinces from west to east (use your best judgement for cases where the order is unclear).  Which Canadian province that has conducted the most tests?"
   ]
  },
  {
   "cell_type": "code",
   "execution_count": 20,
   "metadata": {
    "colab": {},
    "colab_type": "code",
    "id": "AtRQgtZL2gZM"
   },
   "outputs": [
    {
     "data": {
      "text/plain": [
       "administrative_area_level_2\n",
       "Ontario                      22606233.0\n",
       "Quebec                       16015314.0\n",
       "Alberta                       6763655.0\n",
       "British Columbia              5495428.0\n",
       "Nova Scotia                   1728364.0\n",
       "Saskatchewan                  1452358.0\n",
       "Manitoba                      1434252.0\n",
       "New Brunswick                  704856.0\n",
       "Newfoundland and Labrador      551866.0\n",
       "Prince Edward Island           255565.0\n",
       "Northwest Territories           39878.0\n",
       "Nunavut                         32179.0\n",
       "Yukon                            9129.0\n",
       "Name: tests, dtype: float64"
      ]
     },
     "execution_count": 20,
     "metadata": {},
     "output_type": "execute_result"
    }
   ],
   "source": [
    "# groupby province --> show number of tests --> bar plot\n",
    "can_province = canada.groupby('administrative_area_level_2').tests.max().sort_values(ascending=False)\n",
    "can_province"
   ]
  },
  {
   "cell_type": "code",
   "execution_count": 21,
   "metadata": {},
   "outputs": [
    {
     "data": {
      "text/plain": [
       "<AxesSubplot:title={'center':'Conducted test number in each province of Canada'}, xlabel='administrative_area_level_2'>"
      ]
     },
     "execution_count": 21,
     "metadata": {},
     "output_type": "execute_result"
    },
    {
     "data": {
      "image/png": "[encoded data removed]",
      "text/plain": [
       "<Figure size 432x288 with 1 Axes>"
      ]
     },
     "metadata": {
      "needs_background": "light"
     },
     "output_type": "display_data"
    }
   ],
   "source": [
    "can_province.plot(kind='bar', title='Conducted test number in each province of Canada')"
   ]
  },
  {
   "cell_type": "markdown",
   "metadata": {
    "colab_type": "text",
    "id": "YEfyfQtu2gZQ"
   },
   "source": [
    "**Answer.**\n",
    "1. The bar plot of the number of tests conducted in each Canadian province is plotted above. As `tests` records the cumulative number of tests, so here `max` is used for calculation.\n",
    "1. From the graph, it is clear that Ontario has conducted the most tests."
   ]
  },
  {
   "cell_type": "markdown",
   "metadata": {
    "colab_type": "text",
    "id": "Skkue0wv2gZQ"
   },
   "source": [
    "### <font color='#8B0000'> Q6 Create a bar plot that shows the number of tests conducted per 1000 people for each province in Canada.</font>\n",
    "How would you interpret the results of this bar plot given the results of bar plot in question 5. "
   ]
  },
  {
   "cell_type": "code",
   "execution_count": 25,
   "metadata": {
    "colab": {},
    "colab_type": "code",
    "id": "J3sgn95f2gZQ"
   },
   "outputs": [
    {
     "data": {
      "text/plain": [
       "administrative_area_level_2\n",
       "Quebec                       1875.840422\n",
       "Nova Scotia                  1768.225098\n",
       "Prince Edward Island         1615.884116\n",
       "Ontario                      1536.602694\n",
       "Alberta                      1532.615282\n",
       "Saskatchewan                 1229.076575\n",
       "British Columbia             1075.233270\n",
       "Newfoundland and Labrador    1058.502201\n",
       "Manitoba                     1041.186425\n",
       "New Brunswick                 903.669648\n",
       "Northwest Territories         888.072332\n",
       "Nunavut                       829.783394\n",
       "Yukon                         222.235747\n",
       "Name: test_per1000, dtype: float64"
      ]
     },
     "execution_count": 25,
     "metadata": {},
     "output_type": "execute_result"
    }
   ],
   "source": [
    "canada['test_per1000'] = canada.tests / canada.population * 1000\n",
    "can_testper1000 = canada.groupby('administrative_area_level_2').test_per1000.max().sort_values(ascending=False)\n",
    "can_testper1000"
   ]
  },
  {
   "cell_type": "code",
   "execution_count": 26,
   "metadata": {},
   "outputs": [
    {
     "data": {
      "text/plain": [
       "<AxesSubplot:title={'center':'The conducted test numer per 1000 people for each province in Canada'}, xlabel='administrative_area_level_2'>"
      ]
     },
     "execution_count": 26,
     "metadata": {},
     "output_type": "execute_result"
    },
    {
     "data": {
      "image/png": "[encoded data removed]",
      "text/plain": [
       "<Figure size 432x288 with 1 Axes>"
      ]
     },
     "metadata": {
      "needs_background": "light"
     },
     "output_type": "display_data"
    }
   ],
   "source": [
    "can_testper1000.plot(kind='bar', title='The conducted test numer per 1000 people for each province in Canada')"
   ]
  },
  {
   "cell_type": "markdown",
   "metadata": {
    "colab_type": "text",
    "id": "OeTYYDMO2gZT"
   },
   "source": [
    "**Answer.**\n",
    "1. The above bar plot shows the conducted test number per 1000 people for each Canadian province.\n",
    "1. From the graph, it is clear that Ontario has conducted the most tests per 1000 people, which is the same province that conducted the most tests. "
   ]
  },
  {
   "cell_type": "markdown",
   "metadata": {
    "colab_type": "text",
    "id": "kF2a-RsJ2gZU"
   },
   "source": [
    "### <font color='#8B0000'> Q7 Create a visualization that shows which Canadian province has the highest recovery rate. </font>\n",
    "Recovery rate is calculated as the number of recovered cases divided by the number of confirmed cases."
   ]
  },
  {
   "cell_type": "code",
   "execution_count": 38,
   "metadata": {
    "colab": {},
    "colab_type": "code",
    "id": "JpzjGH8S5gIy"
   },
   "outputs": [
    {
     "data": {
      "text/plain": [
       "3481           NaN\n",
       "3482           NaN\n",
       "3483           NaN\n",
       "3484           NaN\n",
       "3485           NaN\n",
       "            ...   \n",
       "495989    0.852061\n",
       "495990    0.852061\n",
       "495991    0.852061\n",
       "495992    0.865469\n",
       "495993         NaN\n",
       "Name: Recovery_rate, Length: 9141, dtype: float64"
      ]
     },
     "execution_count": 38,
     "metadata": {},
     "output_type": "execute_result"
    }
   ],
   "source": [
    "# add a series 'Recovery_rate': recovered / confirmed\n",
    "canada['Recovery_rate'] = canada.recovered / canada.confirmed\n",
    "canada['Recovery_rate']"
   ]
  },
  {
   "cell_type": "code",
   "execution_count": 40,
   "metadata": {},
   "outputs": [
    {
     "data": {
      "text/plain": [
       "<AxesSubplot:title={'center':'Recovery rate of each Canadian province'}, xlabel='administrative_area_level_2'>"
      ]
     },
     "execution_count": 40,
     "metadata": {},
     "output_type": "execute_result"
    },
    {
     "data": {
      "image/png": "[encoded data removed]",
      "text/plain": [
       "<Figure size 432x288 with 1 Axes>"
      ]
     },
     "metadata": {
      "needs_background": "light"
     },
     "output_type": "display_data"
    }
   ],
   "source": [
    "canada.groupby('administrative_area_level_2').Recovery_rate.max().sort_values(ascending=False).plot(kind='bar', title='Recovery rate of each Canadian province')"
   ]
  },
  {
   "cell_type": "markdown",
   "metadata": {
    "colab_type": "text",
    "id": "Au4YdEij2gZU"
   },
   "source": [
    "**Answer.**\n",
    "To compare the recovery rate of each Canadian province, the bar plot has been generated. As both of `recovered` and `confirmed` record the cumulative values, `max` is used for calculation.\n",
    "\n",
    "From the plot, it can be seen that Nunavut and Northwest Territories have the highest recovery rate. Also, the recovery rates among all provinces are around 1.0, which shows a good sign of local medical treatments."
   ]
  },
  {
   "cell_type": "markdown",
   "metadata": {
    "colab_type": "text",
    "id": "1ypeZjWN2gZV"
   },
   "source": [
    "### <font color='#8B0000'> Q8 Create visualizations that show the impacts of _at least_ three policy measures on mortality or infection rates.</font>\n",
    "\n",
    "\n",
    "See https://covid19datahub.io/articles/doc/data.html for descriptions of the available policy measures.  You are not limited to histograms and bar charts.  Remember that you can use subplots!\n"
   ]
  },
  {
   "cell_type": "code",
   "execution_count": 395,
   "metadata": {},
   "outputs": [
    {
     "data": {
      "image/png": "[encoded data removed]",
      "text/plain": [
       "<Figure size 864x360 with 2 Axes>"
      ]
     },
     "metadata": {
      "needs_background": "light"
     },
     "output_type": "display_data"
    }
   ],
   "source": [
    "# Measure 1: gatherings_restrictions on 'deaths' and 'confirmed'\n",
    "f, (ax1, ax2) = plt.subplots(1, 2, figsize=(12, 5))\n",
    "ax1.plot(canada.groupby('date').gatherings_restrictions.sum().sort_values(ascending=False), canada.groupby('date').deaths.sum().sort_values())\n",
    "ax2.plot(canada.groupby('date').gatherings_restrictions.sum().sort_values(ascending=False), canada.groupby('date').confirmed.sum().sort_values())\n",
    "plt.show()"
   ]
  },
  {
   "cell_type": "code",
   "execution_count": 19,
   "metadata": {},
   "outputs": [
    {
     "data": {
      "image/png": "[encoded data removed]",
      "text/plain": [
       "<Figure size 720x360 with 2 Axes>"
      ]
     },
     "metadata": {
      "needs_background": "light"
     },
     "output_type": "display_data"
    }
   ],
   "source": [
    "# Measure 2: facial_coverings on 'deaths' and 'confirmed'\n",
    "f, (ax1, ax2) = plt.subplots(1, 2, figsize=(10, 5))\n",
    "ax1.bar(canada.groupby('date').facial_coverings.sum().sort_values(ascending=False), canada.groupby('date').deaths.sum().sort_values())\n",
    "ax2.bar(canada.groupby('date').facial_coverings.sum().sort_values(ascending=False), canada.groupby('date').confirmed.sum().sort_values())\n",
    "plt.show()"
   ]
  },
  {
   "cell_type": "code",
   "execution_count": 14,
   "metadata": {},
   "outputs": [
    {
     "data": {
      "image/png": "[encoded data removed]",
      "text/plain": [
       "<Figure size 864x360 with 2 Axes>"
      ]
     },
     "metadata": {
      "needs_background": "light"
     },
     "output_type": "display_data"
    }
   ],
   "source": [
    "# Measure 3: vaccination_policy on 'deaths' and 'confirmed'\n",
    "f, (ax1, ax2) = plt.subplots(1, 2, figsize=(12, 5))\n",
    "ax1.scatter(canada.groupby('date').school_closing.sum().sort_values(ascending=False), canada.groupby('date').deaths.sum().sort_values())\n",
    "ax2.scatter(canada.groupby('date').school_closing.sum().sort_values(ascending=False), canada.groupby('date').confirmed.sum().sort_values())\n",
    "plt.show()"
   ]
  },
  {
   "cell_type": "markdown",
   "metadata": {
    "colab_type": "text",
    "id": "83mPoFFx2gZY"
   },
   "source": [
    "**Answer.**\n",
    "For this question, `facial_coverings`, `gatherings_restrictions` and `vaccination_policy` are analyzed to show their impacts on mortality and infection rates. All the graphs show that with more and more implementations of the three policy measures, the number of deaths and confirmed cases become fewer and fewer."
   ]
  },
  {
   "cell_type": "markdown",
   "metadata": {
    "colab_type": "text",
    "id": "ezPjmQTU2gZY"
   },
   "source": [
    "## <font color='green'> Please submit your completed notebook in .IPYNB and .HTML formats via Canvas </font>"
   ]
  }
 ],
 "metadata": {
  "@webio": {
   "lastCommId": null,
   "lastKernelId": null
  },
  "colab": {
   "collapsed_sections": [],
   "name": "370_Homework_2.ipynb",
   "provenance": []
  },
  "kernelspec": {
   "display_name": "Python 3 (ipykernel)",
   "language": "python",
   "name": "python3"
  },
  "language_info": {
   "codemirror_mode": {
    "name": "ipython",
    "version": 3
   },
   "file_extension": ".py",
   "mimetype": "text/x-python",
   "name": "python",
   "nbconvert_exporter": "python",
   "pygments_lexer": "ipython3",
   "version": "3.8.12"
  }
 },
 "nbformat": 4,
 "nbformat_minor": 4
}
